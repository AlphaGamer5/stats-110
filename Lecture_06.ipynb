{
 "cells": [
  {
   "cell_type": "markdown",
   "metadata": {},
   "source": [
    "# Monty Hall, Simpson's Paradox"
   ]
  },
  {
   "cell_type": "markdown",
   "metadata": {},
   "source": [
    "## The Monty Hall Problem\n",
    "\n",
    "You know this problem.\n",
    "\n",
    "* There are three doors.\n",
    "* A car is behind one of the doors.\n",
    "* The other two doors have goats behind them.\n",
    "* You choose a door, but before you see what's behind your choice, Monty opens one of the other doors to reveal a goat.\n",
    "* Monty offers you the chance to switch doors.\n",
    "\n",
    "_Should you switch?_\n",
    "\n",
    "### Defining the problem\n",
    "\n",
    "Let $S$ be the event of winning when you switch.\n",
    "\n",
    "Let $D_j$ be the event of the car being behind door $j$.\n",
    "\n",
    "### Solving with a probability tree\n",
    "\n",
    "![title](images/L0601.png)\n",
    "\n",
    "With a probability tree, it is easy to represent the case where you condition on Monty opening door 2. Given that you initially choose door 1, you can quickly see that if you stick with door 1, you have a $\\frac{1}{3}~$ chance of winning.\n",
    "\n",
    "You have a $\\frac{2}{3}~$ chance of winning if you switch.\n",
    "\n",
    "### Solving with the Law of Total Probability\n",
    "\n",
    "This is even easier to solve using the Law of Total Probability.\n",
    "\n",
    "\\begin{align}\n",
    "    P(S) &= P(S|D_1)P(D_1) + P(S|D_2)P(D_2) + P(S|D_3)P(D_3) \\\\\n",
    "    &= 0 \\frac{1}{3} + 1 \\frac{1}{3} + 1 \\frac{1}{3}  \\\\\n",
    "    &= \\frac{2}{3}\n",
    "\\end{align}"
   ]
  },
  {
   "cell_type": "markdown",
   "metadata": {},
   "source": [
    "## Simpson's Paradox\n",
    "\n",
    "_Is it possible for a certain set of events to be more (or less) probable than another without conditioning, and then be less (or more) probable with conditioning?_\n",
    "\n",
    "![title](images/L0602.png)\n",
    "\n",
    "Assume that we have the above rates of success/failure for Drs. Hibbert and Nick for two types of surgery: heart surgery and band-aid removal.\n",
    "\n",
    "### Definining the problem\n",
    "\n",
    "Let $A$ be the event of a successful operation.\n",
    "\n",
    "Let $B$ be the event of treatment by Dr. Nick.\n",
    "\n",
    "Let $C$ be the event of heart surgery.\n",
    "\n",
    "\\begin{align}\n",
    "    P(A|B,C) &< P(A|B^c,C) & &\\text{Dr. Nick is not as skilled as Dr. Hibbert in heart surgery} \\\\\n",
    "    P(A|B,C^c) &< P(A|B^c,C^c) & &\\text{neither is he that good at band-aid removal} \\\\\n",
    "\\end{align}\n",
    "\n",
    "And yet $P(A|B) > P(A|B^c)$?\n",
    "\n",
    "### Explaining with the Law of Total Probability\n",
    "\n",
    "To explain this paradox, let's try to use the Law of Total Probability.\n",
    "\n",
    "\\begin{align}\n",
    "    P(A|B) &= P(A|B,C)P(C|B) + P(A|B,C^c)P(C^c|B) \\\\\n",
    "    \\\\\n",
    "    \\text{but } P(A|B,C) &< P(A|B^c,C) \\\\\n",
    "    \\text{and } P(A|B,C^c) &< P(A|B^c,C^c)\n",
    "\\end{align}\n",
    "\n",
    "Look at $P(C|B$ and $P(C|B^c)$. These weights are what makes this paradox possible, as they are what make the inequality relation sign flip.\n",
    "\n",
    "Event $C$ is a  a case of __confounding__"
   ]
  }
 ],
 "metadata": {
  "kernelspec": {
   "display_name": "Python 3",
   "language": "python",
   "name": "python3"
  },
  "language_info": {
   "codemirror_mode": {
    "name": "ipython",
    "version": 3
   },
   "file_extension": ".py",
   "mimetype": "text/x-python",
   "name": "python",
   "nbconvert_exporter": "python",
   "pygments_lexer": "ipython3",
   "version": "3.5.1"
  }
 },
 "nbformat": 4,
 "nbformat_minor": 0
}
