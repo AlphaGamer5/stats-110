{
 "cells": [
  {
   "cell_type": "markdown",
   "metadata": {},
   "source": [
    "# Lecture 20\n",
    "\n",
    "## Expected distance between Normals, Multinomial, Cauchy"
   ]
  },
  {
   "cell_type": "markdown",
   "metadata": {},
   "source": [
    "In lecture 19, we saw how to obtain the expected distance between two _uniform_ r.v. How would we do the same, but with the Normal distribution?\n",
    "\n",
    "### Example: expected distance between 2 Normally distributed random points\n",
    "\n",
    "Given $Z_1,Z_2 \\sim \\mathcal{N}(0,1)$, $Z_1$ and $Z_2$ are i.i.d.\n",
    "\n",
    "\\begin{align}\n",
    "  \\mathbb{E} &= | Z_1 - Z_2 |\n",
    "\\end{align}\n",
    "\n",
    "Now, we could just jump in and try using 2D LOTUS, but let's take a step back and recall what we have seen earlier in Lecture 14 about the _iinearity of Normals_, and see if we can apply what we know about MGFs."
   ]
  },
  {
   "cell_type": "markdown",
   "metadata": {
    "collapsed": true
   },
   "source": [
    "#### Theorem: If $X \\sim \\mathcal{N}(\\mu_1, \\sigma_1^2)$ and  $Y \\sim \\mathcal{N}(\\mu_2, \\sigma_2^2)$ are *independent*, then $X + Y \\sim \\mathcal{N}(\\mu_1 + \\mu_2, \\sigma_1^2 + \\sigma_2^2)$\n",
    "\n",
    "Recall from Lecture 17 that the MGF of a sum of independent r.v. is just the product of their respective MGF.\n",
    "\n",
    "\\begin{align}\n",
    "  M(X + Y) &= \\mathbb{E}(e^{t(X+Y)}) \\\\\n",
    "           &= \\mathbb{E}(e^{tX}) \\, \\mathbb{E}(e^{tY}) \\\\\n",
    "           &= \\mathbb{E}(e^{\\mu_1 t + \\frac{1}{2} \\sigma_1^2 t }) \\, \\mathbb{E}(e^{\\mu_2 t + \\frac{1}{2} \\sigma_2^2 t }) \\\\\n",
    "           &= \\mathbb{E} \\left( e^{(\\mu_1 + \\mu_2) t + \\frac{1}{2} (\\sigma_1^2 + \\sigma_2^2) t } \\right) &\\quad \\blacksquare\n",
    "\\end{align}\n",
    "\n"
   ]
  },
  {
   "cell_type": "code",
   "execution_count": null,
   "metadata": {
    "collapsed": true
   },
   "outputs": [],
   "source": []
  }
 ],
 "metadata": {
  "kernelspec": {
   "display_name": "Python 3",
   "language": "python",
   "name": "python3"
  },
  "language_info": {
   "codemirror_mode": {
    "name": "ipython",
    "version": 3
   },
   "file_extension": ".py",
   "mimetype": "text/x-python",
   "name": "python",
   "nbconvert_exporter": "python",
   "pygments_lexer": "ipython3",
   "version": "3.6.1"
  }
 },
 "nbformat": 4,
 "nbformat_minor": 2
}
