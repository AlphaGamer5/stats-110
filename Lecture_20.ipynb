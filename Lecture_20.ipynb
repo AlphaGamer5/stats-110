{
 "cells": [
  {
   "cell_type": "markdown",
   "metadata": {},
   "source": [
    "# Lecture 20\n",
    "\n",
    "## Expected distance between Normals, Multinomial, Cauchy"
   ]
  },
  {
   "cell_type": "markdown",
   "metadata": {},
   "source": [
    "In lecture 19, we saw how to obtain the expected distance between two uniform r.v.\n",
    "\n",
    "Let's try this, but with a \n",
    "\n",
    "### Example: expected distance between 2 Normally distributed random points\n",
    "\n",
    "Given $Z_1,Z_2 \\sim \\mathcal{N}(0,1)$, $Z_1$ and $Z_2$ are i.i.d.\n",
    "\n",
    "\\begin{align}\n",
    "  \\mathbb{E} &= | Z_1 - Z_2 |\n",
    "\\end{align}\n",
    "\n",
    "Now, we could just jump in and try using 2D LOTUS, but let's take a step back and recall what we have seen earlier in Lecture 14 about the _iinearity of Normals_."
   ]
  },
  {
   "cell_type": "markdown",
   "metadata": {
    "collapsed": true
   },
   "source": [
    "#### Theorem: If $X \\sim \\mathcal{N}(\\mu_1, \\sigma_1^2)$ and  $Y \\sim \\mathcal{N}(\\mu_2, \\sigma_2^2)$ are *independent*, then...\n",
    "\n"
   ]
  },
  {
   "cell_type": "code",
   "execution_count": null,
   "metadata": {
    "collapsed": true
   },
   "outputs": [],
   "source": []
  }
 ],
 "metadata": {
  "kernelspec": {
   "display_name": "Python 3",
   "language": "python",
   "name": "python3"
  },
  "language_info": {
   "codemirror_mode": {
    "name": "ipython",
    "version": 3
   },
   "file_extension": ".py",
   "mimetype": "text/x-python",
   "name": "python",
   "nbconvert_exporter": "python",
   "pygments_lexer": "ipython3",
   "version": "3.6.1"
  }
 },
 "nbformat": 4,
 "nbformat_minor": 2
}
