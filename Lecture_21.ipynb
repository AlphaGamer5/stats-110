{
 "cells": [
  {
   "cell_type": "markdown",
   "metadata": {},
   "source": [
    "# Lecture 20\n",
    "\n",
    "## Covariance, Correlation, Variance of a sum, Variance of Binomial & Hypergeometric"
   ]
  },
  {
   "cell_type": "markdown",
   "metadata": {
    "collapsed": true
   },
   "source": [
    "### Definition\n",
    "\n",
    "Covariance of any 2 random variables $X, Y$ is defined as\n",
    "\n",
    "\\begin{align}\n",
    "  Cov(X, Y) &= \\mathbb{E}\\left( (X - \\mathbb{E}(X)) (Y - \\mathbb{E}(Y)) \\right) \\\\\n",
    "  &= \\mathbb{E}(X,Y) - \\mathbb{E}(X) \\, \\mathbb{E}(Y) & \\quad \\text{similar to definition of variance}\n",
    "\\end{align}\n",
    "\n",
    "Covariance is a measure of how $X, Y$ might vary _in tandem_. \n",
    "\n",
    "If the product of $(X - \\mathbb{E}(X))$ and $(Y - \\mathbb{E}(Y))$ is _positive_ then that means that both values are either _positive_ ($X,Y$ tend to be greater than their respective means); or they are both _negative_ ($X,Y$ tend to be less than their means).\n",
    "\n",
    "Correlation is defined in terms of covariance, as you will see in a bit.\n",
    "\n",
    "### Properties\n",
    "\n",
    "\\begin{align}\n",
    "  & \\text{(1)} & Cov(X,X) &= Var(X) \\\\\n",
    "  \\\\\n",
    "  & \\text{(2)} & Cov(X,Y) &= Cov(Y,X) \\\\\n",
    "  \\\\\n",
    "  & \\text{(3)} & Cov(X, c) &= 0 & \\quad \\text{for some constant }c \\\\\n",
    "  \\\\\n",
    "  & \\text{(4)} & Cov(cX, Y) &= c \\, Cov(X,Y) & \\quad \\text{bilinearity} \\\\\n",
    "  \\\\\n",
    "  & \\text{(5)} & Cov(X, Y+Z) &= Cov(X,Y) + Cov(X,Z) & \\quad \\text{bilinearity} \\\\\n",
    "  \\\\\n",
    "  & \\text{(6)} & Cov(X+Y, Z+W) &= Cov(X,Z) + Cov(X,W) + Cov(Y,Z) + Cov(Y,W) & \\quad \\text{applying (5)} \\\\\n",
    "  \\\\\n",
    "  & \\Rightarrow & Cov \\left( \\sum_{i=1}^{m} a_{i} \\, X_{i},  \\sum_{j=1}^{n} b_{j} \\, U_{j} \\right) &= \\sum_{i,j} a_{i} \\, b_{j} \\, Cov \\left( X_{i}, Y_{j} \\right) \\\\\n",
    "  \\\\\n",
    "  & \\text{(7)} & Var(X_1 + X_2) &=  Cov(X_1+X_2, X_1+X_2) \\\\\n",
    "  & & &= Cov(X_1, X_1) + Cov(X_1, X_2) + Cov(X_2, X_1) + Cov(X_2, X_2) \\\\\n",
    "  & & &= Var(X_1) + Var(X_2) + 2 \\, Cov(X_1, X_2) \\\\\n",
    "  \\\\\n",
    "  & \\Rightarrow & Var(X_1 + X_2) &= Var(X_1) + Var(X_2) & \\quad \\text{if }X_1, X_2 \\text{ are uncorrelated} \\\\\n",
    "  \\\\\n",
    "  & \\Rightarrow & Var(X_1 + \\dots + X_n) &= Var(X_1) + \\dots + Var(X_n) + \\sum_{i \\lt j} Cov(X_i, X_j) \\\\\n",
    "\\end{align} "
   ]
  }
 ],
 "metadata": {
  "kernelspec": {
   "display_name": "Python 3",
   "language": "python",
   "name": "python3"
  },
  "language_info": {
   "codemirror_mode": {
    "name": "ipython",
    "version": 3
   },
   "file_extension": ".py",
   "mimetype": "text/x-python",
   "name": "python",
   "nbconvert_exporter": "python",
   "pygments_lexer": "ipython3",
   "version": "3.6.1"
  }
 },
 "nbformat": 4,
 "nbformat_minor": 1
}
