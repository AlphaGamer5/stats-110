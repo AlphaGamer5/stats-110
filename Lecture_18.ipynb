{
 "cells": [
  {
   "cell_type": "markdown",
   "metadata": {},
   "source": [
    "# MGFs to get moments of Expo and Normal, sums of Poissons, joint distributions"
   ]
  },
  {
   "cell_type": "markdown",
   "metadata": {},
   "source": [
    "## MGF for $Expo(1)$\n",
    "\n",
    "Let $X \\sim Expo(1)$.\n",
    "\n",
    "We begin by finding the MGF of $X$:\n",
    "\n",
    "\\begin{align}\n",
    "  M(t) &= \\mathbb{E}(e^{tX}) &\\quad \\text{ definition of MGF} \\\\\n",
    "       &= \\int_{0}^{\\infty} e^{-x} \\, e^{tx} dx \\\\\n",
    "       &= \\int_{0}^{\\infty} e^{-x(1-t)} dx \\\\\n",
    "       &= \\boxed{\\frac{1}{1-t}} &\\quad \\text{ for } t < 1\n",
    "\\end{align}\n",
    "\n",
    "In finding the moments, by definition we have:\n",
    "\n",
    "* $M'(0) = \\mathbb{E}(X)$\n",
    "* $M''(0) = \\mathbb{E}(X^2)$\n",
    "* $M'''(0) = \\mathbb{E}(X^3)$\n",
    "* ... and so on ...\n",
    "\n",
    "But even though finding derivatives of $\\frac{1}{1-t}$ is not all that bad, it is nevertheless annoying busywork. But since we know that the $n^{th}$ moment is the coefficient of the $n^{th}$ term of the Taylor Expansion of $X$, we can leverage that fact instead.\n",
    "\n",
    "\\begin{align}\n",
    "  \\frac{1}{1-t} &= \\sum_{n=0}^{\\infty} t^n &\\quad \\text{ for } |t| < 1 \\\\ \n",
    "                &= \\sum_{n=0}^{\\infty} \\frac{n! \\, t^n}{n!} &\\quad \\text{ since we need the form } \\sum_{n=0}^{\\infty} \\left( \\frac{\\mathbb{E}(X^{n}) \\, t^{n}}{n!}\\right) \\\\\n",
    "   \\\\\n",
    "   \\Rightarrow \\mathbb{E}(X^n) &= \\boxed{n!}\n",
    "\\end{align}\n",
    " \n",
    "And now we can simply _generate_ arbitary moments for r.v. $X$!\n",
    "\n",
    "* $\\mathbb{E}(X) = 1! = 1$\n",
    "* $\\mathbb{E}(X^2) = 2! = 2$\n",
    "* $\\Rightarrow \\mathbb{Var}(X) = \\mathbb{E}(X^2) - \\mathbb{E}X^2 = 2 - 1 = 1$"
   ]
  },
  {
   "cell_type": "markdown",
   "metadata": {
    "collapsed": true
   },
   "source": [
    "## MGF for $Expo(\\lambda)$\n",
    " \n",
    "Let $Y \\sim Expo(\\lambda)$.\n",
    "\n",
    "We begin with\n",
    "\n",
    "\\begin{align}\n",
    "  \\text{let } X &= \\lambda Y \\\\\n",
    "  \\text{and so } X &= \\lambda Y \\sim Expo(1) \\\\\n",
    "  \\\\\n",
    "  \\text{then } Y &= \\frac{X}{\\lambda} \\\\\n",
    "  Y^n &= \\frac{X^n}{\\lambda^n} \\\\\n",
    "  \\\\\n",
    "  \\Rightarrow \\mathbb{E}(Y^n) &= \\frac{\\mathbb{E}(X^n)}{\\lambda^n} \\\\\n",
    "  &= \\boxed{\\frac{n!}{\\lambda^n}}\n",
    "\\end{align}\n",
    "\n",
    "And as before, we now can simply _generate_ arbitary moments for r.v. $Y$!\n",
    "\n",
    "* $\\mathbb{E}(Y) = \\frac{1!}{\\lambda^1} = \\frac{1}{\\lambda}$\n",
    "* $\\mathbb{E}(Y^2) = \\frac{2!}{\\lambda^2} = \\frac{2}{\\lambda^2}$\n",
    "* $\\Rightarrow \\mathbb{Var}(Y) = \\mathbb{E}(Y^2) - \\mathbb{E}Y^2 = \\frac{2}{\\lambda^2} - \\left(\\frac{1}{\\lambda}\\right)^2 = \\frac{1}{\\lambda^2}$"
   ]
  },
  {
   "cell_type": "markdown",
   "metadata": {
    "collapsed": true
   },
   "source": [
    "## MGF for standard Normal $\\mathcal{N}(0, 1)$\n",
    "\n",
    "Let $Z \\sim \\mathcal{N}(0,1)$; find **all** its moments.\n",
    "\n",
    "We have seen before that, by symmetry, $\\mathbb{E}(Z^{2n+1}) = 0$ for all odd values of $n$.\n",
    "\n",
    "So we will focus in on the _even_ values of $n$.\n",
    "\n",
    "Now the MGF $M(t) = e^{t^2/2}$. Without taking _any_ derivatives, we can immediately Taylor expand that, since it is continuous everywhere.\n",
    "\n",
    "\\begin{align}\n",
    "  M(t) &= e^{t^2/2} \\\\\n",
    "       &= \\sum_{n=0}^{\\infty} \\frac{\\left(t^2/2\\right)^n}{n!} \\\\\n",
    "       &= \\sum_{n=0}^{\\infty} \\frac{t^{2n}}{2^n \\, n!} \\\\\n",
    "       &= \\sum_{n=0}^{\\infty} \\frac{(2n)! \\, t^{2n}}{2^n \\, n! \\, (2n)!} &\\quad \\text{ since we need the form } \\sum_{n=0}^{\\infty} \\left( \\frac{\\mathbb{E}(X^{n}) \\, t^{n}}{n!}\\right) \\\\\n",
    "       \\\\\n",
    "       \\Rightarrow \\mathbb{E}(Z^{2n}) &= \\boxed{\\frac{(2n)!}{2^n \\, n!}}\n",
    "\\end{align}\n",
    "\n",
    "Let's double-check this with what know about $\\mathbb{Var}(Z)$\n",
    "\n",
    "* by symmetry, we know that $\\mathbb{E}(Z) = 0$\n",
    "* at $n = 1$, $\\mathbb{E}(Z^2) = \\frac{2!}{2 \\times 1!} = 1$ \n",
    "* $\\Rightarrow \\mathbb{Var}(Z) = \\mathbb{E}(Z^2) - \\mathbb{E}Z^2 = 1 - 0 = 1$\n",
    "* at $n = 2$, $\\mathbb{E}(Z^4) = \\frac{4!}{4 \\times 2!} = 3$\n",
    "* at $n = 3$, $\\mathbb{E}(Z^6) = \\frac{6!}{8 \\times 3!} = 15$\n",
    "\n",
    "And so you might have noticed a pattern here. Let us rewrite those even moments once more:\n",
    "\n",
    "* at $n = 1$, $\\mathbb{E}(Z^2) = 1$ \n",
    "* at $n = 2$, $\\mathbb{E}(Z^4) = 1 \\times 3 = 3$ \n",
    "* at $n = 3$, $\\mathbb{E}(Z^6) = 1 \\times 3 \\times 5 = 15$"
   ]
  },
  {
   "cell_type": "code",
   "execution_count": null,
   "metadata": {
    "collapsed": true
   },
   "outputs": [],
   "source": []
  },
  {
   "cell_type": "markdown",
   "metadata": {},
   "source": []
  }
 ],
 "metadata": {
  "kernelspec": {
   "display_name": "Python 3",
   "language": "python",
   "name": "python3"
  },
  "language_info": {
   "codemirror_mode": {
    "name": "ipython",
    "version": 3
   },
   "file_extension": ".py",
   "mimetype": "text/x-python",
   "name": "python",
   "nbconvert_exporter": "python",
   "pygments_lexer": "ipython3",
   "version": "3.5.1"
  }
 },
 "nbformat": 4,
 "nbformat_minor": 0
}
