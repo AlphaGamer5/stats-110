{
 "cells": [
  {
   "cell_type": "markdown",
   "metadata": {},
   "source": [
    "# MGFs to get moments of Expo and Normal, sums of Poissons, joint distributions"
   ]
  },
  {
   "cell_type": "markdown",
   "metadata": {},
   "source": [
    "## MGF for $Expo$\n",
    "\n",
    "Let $X \\sim Expo(1)$\n",
    "\n",
    "We begin by finding the MGF of $X$:\n",
    "\n",
    "\\begin{align}\n",
    "  M(t) &= \\mathbb{E}(e^{tX}) &\\quad \\text{ definition of MGF} \\\\\n",
    "       &= \\int_{0}^{\\infty} e^{-x} \\, e^{tx} dx \\\\\n",
    "       &= \\int_{0}^{\\infty} e^{-x(1-t)} dx \\\\\n",
    "       &= \\boxed{\\frac{1}{1-t}} &\\quad \\text{ for } t < 1\n",
    "\\end{align}\n",
    "\n",
    "In finding the moments, by definition we have:\n",
    "\n",
    "* $M'(0) = \\mathbb{E}(X)$\n",
    "* $M''(0) = \\mathbb{E}(X^2)$\n",
    "* $M'''(0) = \\mathbb{E}(X^3)$\n",
    "* ... and so on ...\n",
    "\n",
    "But even though finding derivatives of $\\frac{1}{1-t}$ is not all that bad, it is nevertheless annoying busywork. But since we know that the $n^{th}$ moment is the coefficient of the $n^{th}$ term of the Taylor Expansion of $X$, we can leverage that fact instead.\n",
    "\n",
    "\\begin{align}\n",
    "  \\frac{1}{1-t} &= \\sum_{n=0}^{\\infty} t^n &\\quad \\text{ for } |t| < 1 \\\\ \n",
    "                &= \\sum_{n=0}^{\\infty} \\frac{n! \\, t^n}{n!} &\\quad \\text{ since we need the form } \\sum_{n=0}^{\\infty} \\left( \\frac{\\mathbb{E}(X^{n}) \\, t^{n}}{n!}\\right) \\\\\n",
    "   \\\\\n",
    "   \\Rightarrow \\mathbb{E}(X^n) &= n!\n",
    "\\end{align}\n",
    " \n",
    "And now we can simply _generate_ arbitary moments for r.v. $X$!"
   ]
  },
  {
   "cell_type": "code",
   "execution_count": null,
   "metadata": {
    "collapsed": true
   },
   "outputs": [],
   "source": []
  }
 ],
 "metadata": {
  "kernelspec": {
   "display_name": "Python 3",
   "language": "python",
   "name": "python3"
  },
  "language_info": {
   "codemirror_mode": {
    "name": "ipython",
    "version": 3
   },
   "file_extension": ".py",
   "mimetype": "text/x-python",
   "name": "python",
   "nbconvert_exporter": "python",
   "pygments_lexer": "ipython3",
   "version": "3.5.1"
  }
 },
 "nbformat": 4,
 "nbformat_minor": 0
}
