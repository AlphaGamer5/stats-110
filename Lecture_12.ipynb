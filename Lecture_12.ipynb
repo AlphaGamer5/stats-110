{
 "cells": [
  {
   "cell_type": "markdown",
   "metadata": {},
   "source": [
    "# Lecture 12: Discrete vs Continuous Distributions"
   ]
  },
  {
   "cell_type": "markdown",
   "metadata": {
    "collapsed": true
   },
   "source": [
    "## Discrete vs Continous Random Variables\n",
    "\n",
    "So, we've completed our whirlwind introduction of discrete random variables, covering the following:\n",
    "\n",
    "1. Bernoulli\n",
    "1. Binomial\n",
    "1. Hypergeometric\n",
    "1. Geometric\n",
    "1. Negative Binomial\n",
    "1. Poisson\n",
    "\n",
    "As we now move into continous random variables, let's create a table to compare/contrast important random variable properties and concepts.\n",
    "\n",
    "| Discrete      | Continuous    |\n",
    "| ------------- |---------------|\n",
    "| $X$           | $X$           |\n",
    "| PMF $P(X=x)$  | PDF $f_x(x)$, <br/>since $P(X=x)=0$ |\n",
    "| CDF $F_x(x)=P(X \\le x)$| CDF $F_x(x) = P(X \\le x)$ |\n",
    "\n",
    "\n",
    "----"
   ]
  },
  {
   "cell_type": "markdown",
   "metadata": {},
   "source": [
    "## Probability Density Function\n",
    "\n",
    "In the _discrete_ case, we could calculate probability by __summing__ (counting) the discrete elements, since each element represents a bit of mass. The probability would be the total of all elements concerned, divided by total mass.\n",
    "\n",
    "But we cannot count discrete elements in the _continuous_ case. Instead, we __integrate__ the density function over a range to get probability mass per _area_.\n",
    "\n",
    "> __Definition__ \n",
    "> A random variable $X$ has PDF $f(x)$ if for all $a$ and $b$\n",
    ">\n",
    "> \\\\begin{align}\n",
    ">   & P(a \\le x \\le b) = \\int_a^b f(x) dx \\\\\\\\\n",
    "> \\\\end{align}\n",
    "\n",
    "### Test for validity\n",
    "\n",
    "Note that to be a valid PDF, \n",
    "\n",
    "- $f(x) \\ge 0$\n",
    "- $\\int_{-\\infty}^{\\infty} f(x) = 1$\n",
    "\n",
    "### Probability at a _point_ is 0\n",
    "\n",
    "- $a = b \\Rightarrow \\int_{a}^{a} f(x)dx = 0$\n",
    "\n",
    "\n",
    "### Density $\\times$ Length \n",
    "\n",
    "But for some point $x_0$ and some _very, very small value_ $\\epsilon$, we can derive $f(x_0) \\epsilon \\approx P(X \\in (x_0-\\frac{\\epsilon}{2}, x_0+\\frac{\\epsilon}{2})$\n",
    "\n",
    "\n",
    "----"
   ]
  },
  {
   "cell_type": "code",
   "execution_count": null,
   "metadata": {
    "collapsed": true
   },
   "outputs": [],
   "source": []
  }
 ],
 "metadata": {
  "kernelspec": {
   "display_name": "Python 3",
   "language": "python",
   "name": "python3"
  },
  "language_info": {
   "codemirror_mode": {
    "name": "ipython",
    "version": 3
   },
   "file_extension": ".py",
   "mimetype": "text/x-python",
   "name": "python",
   "nbconvert_exporter": "python",
   "pygments_lexer": "ipython3",
   "version": "3.5.1"
  }
 },
 "nbformat": 4,
 "nbformat_minor": 0
}
