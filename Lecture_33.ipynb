{
 "cells": [
  {
   "cell_type": "markdown",
   "metadata": {},
   "source": [
    "# Lecture 33\n",
    "# Markov chains (cont.), Google PageRank as a Markov chain"
   ]
  },
  {
   "cell_type": "markdown",
   "metadata": {},
   "source": [
    "## Generalizing Reversible Markov Chains\n",
    "\n",
    "Now let's take what we learned about undirected graphs and reversible Markov chains, and extend that just a bit more: let's assume that the transition probabilities are not uniform for a node, that some edges are more likely to be traversed than others (but still keeping to an undirected graph). \n",
    "\n",
    "Recall that the degree for node is the number of edges it has. We proved last time that the stationary probability for any node is proportional to its degree.\n",
    "\n",
    "Now we will generalize that to deal with edge weights: $w_{ij} \\ge 0, w_{ij} = 0$ if there is no edge $\\{ij\\}$.\n",
    "\n",
    "Since the graph in question is undirected, assume $w_{ij} = w_{ji}$.\n",
    "\n",
    "![title](images/L3301.png)\n",
    "\n",
    "### Random walk\n",
    "\n",
    "From state $i$, go to $j$ with transition probability $\\propto w_{ij}$. If $\\{ij\\}$ is an edge, then $q_{ij} = \\frac{w_{ij}}{\\sum_k w_{ik}}$, assuming $w_{ij} \\ge 0$. In the case of no weights, just think of all the weights as being 1; hence, the transition probabilities are proportional to degree.\n",
    "\n",
    "** Proof **\n",
    "\n",
    "Proving reversibility, we have:\n",
    "\n",
    "\\begin{align}\n",
    "  \\left( \\sum_k w_{ik} \\right) \\, q_{ij} &= w_{ij} &\\text{ from assumption above } \\\\\n",
    "  &= w_{ji} &\\text{ since undirected graph } \\\\\n",
    "  &= \\left( \\sum_k w_{jk} \\right) \\, q_{ji} \\\\\n",
    "  \\\\\\\\\n",
    "  \\Rightarrow s_i &\\propto \\sum_k w_{ik} \n",
    "\\end{align} \n",
    "\n",
    "And so you see, here we have a _complete_ generalization of a reversible Markov chain."
   ]
  },
  {
   "cell_type": "markdown",
   "metadata": {},
   "source": [
    "### Examining the converse\n",
    "\n",
    "Conversely, **any** reversible Markov chain can be represented by a graph like the above.\n",
    "\n",
    "Assuming we have a Markov chain (we have $q_{ij}$; and assuming the Markov chain is reversible, we have: \n",
    "\n",
    "\\begin{align}\n",
    "  \\text{Let } w_{ij} &= s_{i} \\, q_{ij} \\\\\n",
    "  &= s_{i} \\, q_{ji} \\\\\n",
    "  &= w_{ji} \\\\\n",
    "  \\\\\\\\\n",
    "  \\rightarrow P (X_{n+1} = j | X_n = i) &= \\frac{w_{ij}}{\\sum_k w_{ik}} \\\\\n",
    "  &= \\frac{s_i \\, q_{ij}}{\\sum_k w_{ik}} \\\\\n",
    "  &= \\frac{s_i \\, q_{ij}}{\\sum_k s_i \\, q_{ik}} \\\\\n",
    "  &= \\frac{q_{ij}}{\\sum_k q_{ik}} \\\\\n",
    "  &= \\frac{q_{ij}}{1} \\\\\n",
    "  &= q_{ij}\n",
    "\\end{align}\n",
    "\n",
    "And so this chain we constructed has the desired transition probabilities: this is the _quintessential_ example of a reversible Markov chain."
   ]
  },
  {
   "cell_type": "markdown",
   "metadata": {},
   "source": [
    "## Non-reversible Example: Google PageRank\n",
    "\n",
    "Now let's generalize this just a bit more, and look at the case of **non-reversible** Markov chains.\n",
    "\n",
    "In this example, consider nodes to be pages in the world-wide web, and the links between the pages as directed edges. In this way, you can see that the Internet is an example of a non-reversible Markov chain. We will consider a very tiny, toy representation of the web as a 4-node directed graph as below.\n",
    "\n",
    "![title](images/L3302.png)\n",
    "\n"
   ]
  },
  {
   "cell_type": "code",
   "execution_count": null,
   "metadata": {
    "collapsed": true
   },
   "outputs": [],
   "source": []
  }
 ],
 "metadata": {
  "kernelspec": {
   "display_name": "Python 3",
   "language": "python",
   "name": "python3"
  },
  "language_info": {
   "codemirror_mode": {
    "name": "ipython",
    "version": 3
   },
   "file_extension": ".py",
   "mimetype": "text/x-python",
   "name": "python",
   "nbconvert_exporter": "python",
   "pygments_lexer": "ipython3",
   "version": "3.6.3"
  }
 },
 "nbformat": 4,
 "nbformat_minor": 2
}
