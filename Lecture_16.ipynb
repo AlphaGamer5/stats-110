{
 "cells": [
  {
   "cell_type": "markdown",
   "metadata": {},
   "source": [
    "# Exponential Distribution, Memoryless Property"
   ]
  },
  {
   "cell_type": "markdown",
   "metadata": {
    "collapsed": true
   },
   "source": [
    "## Exponential Distribution\n",
    "\n",
    "### Description\n",
    "\n",
    "Real-valued distribution describing wait times, survival times. Rate parameter $\\lambda$. Continuous analog of the geometric distribution.\n",
    "\n",
    "Unique in that the exponential distribution has the memoryless property.\n",
    "\n",
    "### Notation\n",
    "\n",
    "$X \\sim Expo(\\lambda)$\n",
    "\n",
    "### Parameters\n",
    "\n",
    "$\\lambda$ - rate parameter where $\\lambda \\gt 0$\n",
    "\n",
    "### Probability density function\n",
    "\n",
    "\\begin{align}\n",
    "  f(x) &= \n",
    "  \\begin{cases}\n",
    "    \\lambda e^{-\\lambda x}, &\\text{ if } x \\ge 0 \\\\\n",
    "    0, &\\text{ otherwise }\n",
    "  \\end{cases}   \n",
    "\\end{align}\n",
    "\n",
    "### Cumulative distribution function\n",
    "\n",
    "\\begin{align}\n",
    "  F(x) &= \\int_{0}^{\\infty}  \\lambda e^{-\\lambda x} dx \\\\\n",
    "       &= \\left. -y e^{-\\lambda x} \\right \\vert_{0}^{\\infty} + \\underbrace{\\int_{0}^{\\infty} e^{-\\lambda x}}_{foo} dx \n",
    "\\end{align}"
   ]
  },
  {
   "cell_type": "code",
   "execution_count": null,
   "metadata": {
    "collapsed": true
   },
   "outputs": [],
   "source": []
  }
 ],
 "metadata": {
  "kernelspec": {
   "display_name": "Python 3",
   "language": "python",
   "name": "python3"
  },
  "language_info": {
   "codemirror_mode": {
    "name": "ipython",
    "version": 3
   },
   "file_extension": ".py",
   "mimetype": "text/x-python",
   "name": "python",
   "nbconvert_exporter": "python",
   "pygments_lexer": "ipython3",
   "version": "3.5.1"
  }
 },
 "nbformat": 4,
 "nbformat_minor": 0
}
