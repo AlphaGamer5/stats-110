{
 "cells": [
  {
   "cell_type": "markdown",
   "metadata": {},
   "source": [
    "# Lecture 27\n",
    "\n",
    "# Conditional expectation (cont.); taking out what's known; Adam's Law, Eve's Law; projection picture"
   ]
  },
  {
   "cell_type": "markdown",
   "metadata": {},
   "source": [
    "## More on Conditional on a Random Variable\n",
    "\n",
    "### Ex.  $\\mathbb{E}(Y|X)$ where $X \\sim N(0,1)$\n",
    "\n",
    "Let $X \\sim N(0,1)$ and $Y=X^2$.\n",
    "\n",
    "Then \n",
    "\n",
    "\\begin{align}\n",
    "  \\mathbb{E}(Y|X) &= \\mathbb{E}(X^2|X) \\\\\n",
    "  &= X^2 \\\\\n",
    "  &= Y\n",
    "\\end{align}\n",
    "\n",
    "* this is simple enough, and very clear. \n",
    "\n",
    "But how about the other way 'round?"
   ]
  },
  {
   "cell_type": "markdown",
   "metadata": {},
   "source": [
    "### Ex. $\\mathbb{E}(X|Y)$ where $X \\sim N(0,1)$\n",
    "\n",
    "\\begin{align}\n",
    "  \\mathbb{E}(X|Y) &= \\mathbb{E}(X|X^2) \\\\\n",
    "  &= 0\n",
    "\\end{align}\n",
    "\n",
    "Why?\n",
    "\n",
    "* we don't know $X$, but we are given is $X^2$\n",
    "* if we observe $x^2 = a$, then we know $x = \\pm \\sqrt{a}$\n",
    "* by _symmetry_, both $x=-\\sqrt{a}$ and $x=\\sqrt{a}$ are equally likely\n",
    "* hence the best estimate of $X$ would be... 0! "
   ]
  },
  {
   "cell_type": "markdown",
   "metadata": {},
   "source": [
    "### Uniform\n",
    "\n",
    "Say we have a stick of length 1, and we break it at point $x$. Then we take that stick of length $x$, and break that at point $y$.\n",
    "\n",
    "What is $\\mathbb{E}(Y|X)$?\n",
    "\n",
    "![title](images/L2701.png)\n",
    "\n",
    "\n",
    "* $X \\sim Unif(0,1)$\n",
    "* $Y|X \\sim Unif(0,X)$\n",
    "\n",
    "\\begin{align}\n",
    "  \\mathbb{E}(Y|X=x) &= 0 \\\\\n",
    "  &= \\frac{x}{2} \\\\\n",
    "  \\\\\n",
    "  \\Rightarrow \\mathbb{E}(Y|X) &= \\frac{X}{2} \\\\\n",
    "  \\\\\n",
    "  \\mathbb{E} \\left( \\mathbb{E}(Y|X) \\right) &= \\frac{1}{4} \\\\\n",
    "  &= \\mathbb{E}(Y)\n",
    "\\end{align}\n",
    "\n",
    "* so the expected lenght of $y$ being $\\frac{1}{4}$ is pretty intuitive; take a stick, break it in half, break that half in half again\n",
    "* we will get more into that $\\mathbb{E} \\left( \\mathbb{E}(Y|X) \\right) = \\mathbb{E}(Y)$ in a bit"
   ]
  },
  {
   "cell_type": "code",
   "execution_count": null,
   "metadata": {
    "collapsed": true
   },
   "outputs": [],
   "source": []
  }
 ],
 "metadata": {
  "kernelspec": {
   "display_name": "Python 3",
   "language": "python",
   "name": "python3"
  },
  "language_info": {
   "codemirror_mode": {
    "name": "ipython",
    "version": 3
   },
   "file_extension": ".py",
   "mimetype": "text/x-python",
   "name": "python",
   "nbconvert_exporter": "python",
   "pygments_lexer": "ipython3",
   "version": "3.6.1"
  }
 },
 "nbformat": 4,
 "nbformat_minor": 2
}
