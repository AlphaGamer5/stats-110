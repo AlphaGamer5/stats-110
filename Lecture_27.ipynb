{
 "cells": [
  {
   "cell_type": "markdown",
   "metadata": {},
   "source": [
    "# Lecture 27\n",
    "\n",
    "# Conditional expectation (cont.); taking out what's known; Adam's Law, Eve's Law; projection picture"
   ]
  },
  {
   "cell_type": "markdown",
   "metadata": {},
   "source": [
    "## Conditioning on Random Variables\n",
    "\n",
    "### Ex.  $\\mathbb{E}(Y|X)$ where $X \\sim N(0,1)$\n",
    "\n",
    "Let $X \\sim N(0,1)$ and $Y=X^2$.\n",
    "\n",
    "Then \n",
    "\n",
    "\\begin{align}\n",
    "  \\mathbb{E}(Y|X) &= \\mathbb{E}(X^2|X) \\\\\n",
    "  &= X^2 \\\\\n",
    "  &= Y\n",
    "\\end{align}\n",
    "\n",
    "* this is simple enough, and very clear. \n",
    "\n",
    "But how about the other way 'round?"
   ]
  },
  {
   "cell_type": "markdown",
   "metadata": {},
   "source": [
    "### Ex. $\\mathbb{E}(X|Y)$ where $X \\sim N(0,1)$\n",
    "\n",
    "\\begin{align}\n",
    "  \\mathbb{E}(X|Y) &= \\mathbb{E}(X|X^2) \\\\\n",
    "  &= 0\n",
    "\\end{align}\n",
    "\n",
    "Why?\n",
    "\n",
    "* we don't know $X$, but what we are given is $X^2$\n",
    "* if we observe $x^2 = a$, then we know $x = \\pm \\sqrt{a}$\n",
    "* by _symmetry_, both $x=-\\sqrt{a}$ and $x=\\sqrt{a}$ are equally likely\n",
    "* hence the best estimate of $X$ would be... 0! "
   ]
  },
  {
   "cell_type": "markdown",
   "metadata": {},
   "source": [
    "### Uniform\n",
    "\n",
    "Say we have a stick of length 1, and we break it at point $x$. Then we take that stick of length $x$, and break that at point $y$.\n",
    "\n",
    "What is $\\mathbb{E}(Y|X)$?\n",
    "\n",
    "![title](images/L2701.png)\n",
    "\n",
    "\n",
    "* $X \\sim Unif(0,1)$\n",
    "* $Y|X \\sim Unif(0,X)$\n",
    "\n",
    "\\begin{align}\n",
    "  \\mathbb{E}(Y|X=x) &= 0 \\\\\n",
    "  &= \\frac{x}{2} \\\\\n",
    "  \\\\\n",
    "  \\Rightarrow \\mathbb{E}(Y|X) &= \\frac{X}{2} \\\\\n",
    "  \\\\\n",
    "  \\mathbb{E} \\left( \\mathbb{E}(Y|X) \\right) &= \\frac{1}{4} \\\\\n",
    "  &= \\mathbb{E}(Y)\n",
    "\\end{align}\n",
    "\n",
    "* the expected length of $y = \\frac{1}{4}$ is pretty intuitive; take a stick, break it in half, break that half in half again\n",
    "* we will get more into that $\\mathbb{E} \\left( \\mathbb{E}(Y|X) \\right) = \\mathbb{E}(Y)$ in a bit"
   ]
  },
  {
   "cell_type": "markdown",
   "metadata": {
    "collapsed": true
   },
   "source": [
    "## Useful Properties\n",
    "\n",
    "Here are some useful properties related to conditional expectation.\n",
    "\n",
    "\\begin{align}\n",
    "  &\\text{(1) } \\mathbb{E}\\left( h(X) Y|X \\right) = h(X) \\, \\mathbb{E}(Y|X) &\\text{\"taking out what is known\"} \\\\\\\\\n",
    "  &\\text{(2) } \\mathbb{E}(Y|X) = \\mathbb{E}(Y) &\\text{if } X,Y \\text{ are independent} \\\\\\\\\n",
    "  &\\text{(3) } \\mathbb{E}\\left( \\mathbb{E}(Y|X) \\right) = \\mathbb{E}(Y) &\\text{Iterated Expectation, or Adam's Law} \\\\\\\\\n",
    "  &\\text{(4) } \\mathbb{E}\\left( (Y - \\mathbb{E}(Y|X) \\, h(X) \\right) = 0 &\\text{residual is uncorrelated with } h(X) \\\\\\\\\n",
    "  &\\text{(5) } Var(Y) = \\mathbb{E}\\left( Var(Y|X) \\right) + Var\\left( \\mathbb{E}(Y|X) \\right) &\\text{EVvE's Law} \\\\\\\n",
    "\\end{align}"
   ]
  },
  {
   "cell_type": "markdown",
   "metadata": {},
   "source": [
    "### Proof of Property 4\n",
    "\n",
    "Here is a pictorial explanation to aid your intuition.\n",
    "\n",
    "A vector could be anything (point, function, cow); as long as it follows the axioms of vector space, then anything can be treated as a vector.\n",
    "\n",
    "![title](images/L2702.png)\n",
    "\n",
    "* The \"plane\" in the image represents all of the possible functions of $X$. As such, it neccessarily passes through the origin.\n",
    "* Conditional expectation is simply projecting $Y$ into the plane of all functions of $X$. \n",
    "* $\\mathbb{E}(Y|X)$ is the point in $X$ that is closest to $Y$.\n",
    "* If $Y$ is already a function of $X$, then $Y$ lies in that plane of $X$ functions.\n",
    "* If $Y$ is not a function of $X$, then the length of that projection is the _residual_.\n",
    "* in this image, we implicitly assume finite variance for all functions of $X$.\n",
    "\n",
    "So let us show that the residual $Y - \\mathbb{E}(Y|X)$ is uncorrelated with any function $h(X)$:\n",
    "\n",
    "\\begin{align}\n",
    "  Cov\\left( Y - \\mathbb{E}(Y|X) , h(X) \\right) &= \\mathbb{E}\\left( (Y - \\mathbb{E}(Y|X)) \\, h(X) \\right) - \\mathbb{E}\\left(Y-\\mathbb{E}(Y|X)\\right) \\, \\mathbb{E}\\left(h(X)\\right) \\\\\n",
    "  &= \\mathbb{E}\\left( (Y - \\mathbb{E}(Y|X)) \\, h(X) \\right) - \\left[\\mathbb{E}(Y) - \\mathbb{E}(Y) \\right] \\, \\mathbb{E}\\left(h(X)\\right) &\\text{ linearity, Adam's Law} \\\\\n",
    "  &= \\mathbb{E}\\left( (Y - \\mathbb{E}(Y|X)) \\, h(X) \\right) - 0 \\\\\n",
    "  &= \\mathbb{E}\\left( (Y - \\mathbb{E}(Y|X)) \\, h(X) \\right)\\\\\n",
    "  &= \\mathbb{E}\\left( Y \\, h(X) \\right) - \\mathbb{E}\\left( \\mathbb{E}(Y|X) \\, h(X) \\right) \\\\\n",
    "  &= \\mathbb{E}\\left( Y \\, h(X) \\right) - \\mathbb{E} \\left( \\mathbb{E}(Y \\, h(X))|X) \\right) & \\text{if we can take out, we can put back} \\\\\n",
    "  &= \\mathbb{E}\\left( Y \\, h(X) \\right) - \\mathbb{E}\\left( Y \\, h(X) \\right) & \\text{Adam's Law} \\\\\n",
    "  &= 0 &\\quad \\blacksquare\n",
    "\\end{align}\n",
    "\n",
    "And so the residual $Y - \\mathbb{E}(Y|X)$ is indeed uncorrelated with any function $h(X)$"
   ]
  },
  {
   "cell_type": "markdown",
   "metadata": {},
   "source": [
    "### Proof of Property 3\n",
    "\n",
    "Returning to Property 3, let's do the discrete case (but the continuous case is analogous).\n",
    "\n",
    "Since $\\mathbb{E}(Y|X)$ is just a function of $X$, we can call it by another name, say $g(X)$.\n",
    "\n",
    "\\begin{align}\n",
    "  \\mathbb{E}\\left( \\mathbb{E}(Y|X) \\right) &= \\mathbb{E}\\left( g(X) \\right)  \\\\\n",
    "  &= \\sum_x g(x) \\, P(X=x) &\\text{by LOTUS, definition} \\\\\n",
    "  &= \\sum_x \\mathbb{E}(Y|X=x) \\, P(X=x) \\\\\n",
    "  &= \\sum_x \\left[ \\sum_y y \\, P(Y=y|X=x) \\right] P(X=x) \\\\ \n",
    "  &= \\sum_y \\sum_x y \\, P(Y=y, X=x) \\\\\n",
    "  &= \\sum_y y \\sum_x P(Y=y, X=x) \\\\\n",
    "  &= \\sum_y y P(Y=y) \\\\\n",
    "  &= \\mathbb{E}(Y) &\\quad \\blacksquare\n",
    "\\end{align}"
   ]
  },
  {
   "cell_type": "markdown",
   "metadata": {
    "collapsed": true
   },
   "source": [
    "### Conditional Variance\n",
    "\n",
    "Conditional variance is defined thusly:\n",
    "\n",
    "\\begin{align}\n",
    "  Var(Y|X) &= \\mathbb{E}(Y^2|X) - \\mathbb{E}(Y|X)^2 &\\text{or alternately} \\\\\\\\\n",
    "  &= \\mathbb{E}\\left[ (Y - \\mathbb{E}(Y|X))^2 | X \\right]\n",
    "\\end{align}\n",
    "\n",
    "#### Proof\n",
    "\n",
    "Let $g(X) = \\mathbb{E}(Y|X)$; this will make things a bit clearer.\n",
    "\n",
    "\\begin{align}\n",
    "  Var(Y|X) &= \\mathbb{E}\\left[ (Y - \\mathbb{E}g(X))^2 | X \\right] \\\\\n",
    "  &= \\mathbb{E}\\left[ Y^2 - 2Y \\, g(X) + g(X)^2 | X \\right] \\\\\n",
    "  &= \\mathbb{E}(Y^2|X) - 2\\mathbb{E}(Y\\,g(X)|X) + \\mathbb{E}(g(X)^2 | X) \\\\\n",
    "  &= \\mathbb{E}(Y^2|X) - 2 \\, g(X) \\, \\mathbb{E}(Y|X) + \\mathbb{E}(g(X)^2 | X) \\\\\n",
    "  &= \\mathbb{E}(Y^2|X) - 2 \\, g(X) \\, g(X) + g(X)^2 \\\\\n",
    "  &= \\mathbb{E}(Y^2|X) - 2 \\, g(X)^2 + g(X)^2 \\\\\n",
    "  &= \\mathbb{E}(Y^2|X) - g(X)^2 \\\\\n",
    "  &= \\mathbb{E}(Y^2|X) - \\mathbb{E}(Y|X)^2 &\\quad \\blacksquare \\\\\n",
    "\\end{align}"
   ]
  },
  {
   "cell_type": "markdown",
   "metadata": {
    "collapsed": true
   },
   "source": [
    "### Proof of Property 5\n",
    "\n",
    "Having just learned about conditional variance, let us move on to proving _EVvE's Law_.\n",
    "\n",
    "We want to show that $Var(Y) = \\mathbb{E}\\left( Var(Y|X) \\right) + Var\\left( \\mathbb{E}(Y|X) \\right)$.\n",
    "\n",
    "We will do the following to make things simpler:\n",
    "\n",
    "* let $g(X) = \\mathbb{E}(Y|X)$\n",
    "* by Adam's Law, $\\mathbb{E}(g(X))=\\mathbb{E}(Y)$\n",
    "\n",
    "Then:\n",
    "\n",
    "\\begin{align}\n",
    "  \\mathbb{E}\\left( Var(Y|X) \\right) &= \\mathbb{E}\\left[ \\mathbb{E}(Y^2|X) - (\\mathbb{E}(Y|X))^2 \\right] &\\text{ for the first part} \\\\\n",
    "  &= \\mathbb{E}(Y^2) - \\mathbb{E}(g(X))^2 \\\\\n",
    "  \\\\\n",
    "  Var(\\mathbb{E}(Y|X) &= Var(g(X)) &\\text{ for the second part} \\\\\n",
    "  &= \\mathbb{E}(g(X))^2 - (\\mathbb{E}(g(X))^2 \\\\\n",
    "  \\\\\n",
    "  Var(Y) &= \\mathbb{E}(Y^2) - \\mathbb{E}(g(X))^2 + \\mathbb{E}(g(X))^2 - (\\mathbb{E}(g(X))^2 \\\\\n",
    "  &= \\mathbb{E}(Y^2) - (\\mathbb{E}( \\mathbb{E}(Y|X) ))^2 \\\\\n",
    "  &= \\mathbb{E}(Y^2) - (\\mathbb{E}(Y))^2 &\\quad \\blacksquare\n",
    "\\end{align}"
   ]
  },
  {
   "cell_type": "code",
   "execution_count": null,
   "metadata": {
    "collapsed": true
   },
   "outputs": [],
   "source": []
  }
 ],
 "metadata": {
  "kernelspec": {
   "display_name": "Python 3",
   "language": "python",
   "name": "python3"
  },
  "language_info": {
   "codemirror_mode": {
    "name": "ipython",
    "version": 3
   },
   "file_extension": ".py",
   "mimetype": "text/x-python",
   "name": "python",
   "nbconvert_exporter": "python",
   "pygments_lexer": "ipython3",
   "version": "3.6.1"
  }
 },
 "nbformat": 4,
 "nbformat_minor": 2
}
