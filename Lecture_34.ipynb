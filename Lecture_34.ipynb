{
 "cells": [
  {
   "cell_type": "markdown",
   "metadata": {},
   "source": [
    "# Lecture 34\n",
    "# A Look Ahead; Examples of Regression Example, Sampling from a Finite Population"
   ]
  },
  {
   "cell_type": "markdown",
   "metadata": {},
   "source": [
    "## The Top-10 List\n",
    "\n",
    "1. Conditioning ... is the soul of statistics!\n",
    "1. Symmetry ... is powerful but dangerous\n",
    "1. Random variables and their distributions\n",
    "1. Stories (proofs, backgrounds of the distributions covered)\n",
    "1. Linearity\n",
    "1. Indicator random variables\n",
    "1. LOTUS\n",
    "1. Law of Large Numbers\n",
    "1. Central Limit Theorem\n",
    "1. Markov Chains\n",
    "\n",
    "Items 1 through 4 deal with the Big Picture<sup>&trade;</sup> questions: _What is randomess? How do we think about uncertainty?_\n",
    "\n",
    "Items 5 through 7 are for computing expected values (mean, variance &amp; standard deviation).\n",
    "\n",
    "Items 8 through 10 are important for understanding long-run behavior."
   ]
  },
  {
   "cell_type": "markdown",
   "metadata": {},
   "source": [
    "## Where to go from here?\n",
    "\n",
    "Some topics to study from here on out:\n",
    "\n",
    "* Statistical inference (we have data, need to estimate parameters or make predictions)\n",
    "* Regress &amp; linear models\n",
    "* Finance\n",
    "* Computational biology\n",
    "* Stochastic processes"
   ]
  },
  {
   "cell_type": "markdown",
   "metadata": {},
   "source": [
    "## Advice\n",
    "\n",
    "* Learn R\n",
    "* Learn C\n",
    "* Read Mostly Harmless Econometrics"
   ]
  },
  {
   "cell_type": "markdown",
   "metadata": {},
   "source": [
    "## Ex. A Simple Linear Regression\n",
    "\n",
    "You've seen this before:\n",
    "\n",
    "\\begin{align}\n",
    "  Y &= \\beta_0 + \\beta_1 \\, X + \\epsilon\n",
    "\\end{align}\n",
    "\n",
    "* We want to use $X$ to predict $Y$\n",
    "* $\\beta_j$ are linear coeffiecients, with $\\beta_0$ being the value of $Y$ when $x=0$ (default value)\n",
    "* $\\epsilon$ error term (since $X$ is not perfect)\n",
    "* a common assumption is $\\mathbb{E}(\\epsilon | X) = 0$ (centered at 0, $\\epsilon$'s distribution may or may not be normal)\n",
    "\n",
    "So how would we solve for $\\beta_1$?\n",
    "\n",
    "We can start by treating $Cov$ as an _operator_!\n",
    "\n",
    "\\begin{align}\n",
    "  Cov(Y, X) &= Cov\\left( (\\beta_0 + \\beta_1 \\, X + \\epsilon), X \\right) \\\\\n",
    "  &= Cov(\\beta_0, X) + Cov\\left( (\\beta_1 \\, X), X\\right) + Cov(\\epsilon, X) \\\\\n",
    "  \\\\\n",
    "  \\text{now } Cov(\\beta_0, X) &= 0 &\\quad \\text{ since } Cov \\text{ of constant with anything is } 0 \\\\\n",
    "  \\\\\n",
    "  \\text{and } Cov\\left( (\\beta_1 \\, X), X\\right) &= \\beta_1 \\, Cov(X, X) &\\quad \\text{by definition of }Var \\\\\n",
    "  &= \\beta_1 \\, Var(X) \\\\\n",
    "  \\\\\n",
    "  \\text{and since } \\mathbb{E}(\\epsilon) &= \\mathbb{E}\\left( \\mathbb{E}(\\epsilon|X) \\right) = \\mathbb{E}(0) = 0 \\\\\n",
    "  \\text{and further } \\mathbb{E}(\\epsilon \\, X) &= \\mathbb{E}\\left( \\mathbb{E}(\\epsilon \\, X | X)  \\right) &\\quad \\text{ by Adam's Law} \\\\\n",
    "  &= \\mathbb{E}\\left( X \\mathbb{E}(\\epsilon | X) \\right) &\\quad \\text{ since } X \\text{ is known, we can pull it out} \\\\\n",
    "  &= \\mathbb{E}(0) \\\\\n",
    "  &= 0 \\\\\n",
    "  \\text{so }Cov(\\epsilon, X) &= \\mathbb{E}(\\epsilon \\, X) - \\mathbb{E}(\\epsilon) \\, \\mathbb{E}(X) \\\\\n",
    "  &= 0 - 0 = 0 \\\\\\\\\n",
    "  \\Rightarrow \\beta_1 &= \\frac{Cov(X,Y)}{Var(X)} &\\quad \\text{(population version)} \n",
    "\\end{align}"
   ]
  },
  {
   "cell_type": "markdown",
   "metadata": {},
   "source": [
    "### Calculate $\\beta_1$ with $Cov(X,Y)$ and $Var(X)$"
   ]
  },
  {
   "cell_type": "code",
   "execution_count": 1,
   "metadata": {
    "scrolled": true
   },
   "outputs": [
    {
     "data": {
      "text/plain": [
       "0.64383561643835618"
      ]
     },
     "execution_count": 1,
     "metadata": {},
     "output_type": "execute_result"
    }
   ],
   "source": [
    "import numpy as np\n",
    "\n",
    "X = np.array([95, 85, 80, 70, 60])\n",
    "Y = np.array([85, 95, 70, 65, 70])\n",
    "\n",
    "# numpy.cov(X, Y) returns the matrix\n",
    "# [ Cov(X,X), Cov(X,Y)]\n",
    "# [ Cov(X,Y), Cov(Y,Y)]\n",
    "covM = np.cov(X,Y)\n",
    "\n",
    "beta_1 = covM[0,1]/covM[0,0]\n",
    "beta_1"
   ]
  },
  {
   "cell_type": "markdown",
   "metadata": {},
   "source": [
    "### Calculate $\\beta_1$ via sklearn LinearRegression API"
   ]
  },
  {
   "cell_type": "code",
   "execution_count": 2,
   "metadata": {
    "scrolled": true
   },
   "outputs": [
    {
     "data": {
      "text/plain": [
       "0.64383561643835607"
      ]
     },
     "execution_count": 2,
     "metadata": {},
     "output_type": "execute_result"
    }
   ],
   "source": [
    "from sklearn import linear_model\n",
    "\n",
    "regr = linear_model.LinearRegression()\n",
    "regr.fit(np.matrix(X).T, Y).coef_[0]"
   ]
  },
  {
   "cell_type": "markdown",
   "metadata": {},
   "source": [
    "----"
   ]
  },
  {
   "cell_type": "code",
   "execution_count": null,
   "metadata": {
    "collapsed": true
   },
   "outputs": [],
   "source": []
  }
 ],
 "metadata": {
  "kernelspec": {
   "display_name": "Python 3",
   "language": "python",
   "name": "python3"
  },
  "language_info": {
   "codemirror_mode": {
    "name": "ipython",
    "version": 3
   },
   "file_extension": ".py",
   "mimetype": "text/x-python",
   "name": "python",
   "nbconvert_exporter": "python",
   "pygments_lexer": "ipython3",
   "version": "3.6.3"
  }
 },
 "nbformat": 4,
 "nbformat_minor": 2
}
