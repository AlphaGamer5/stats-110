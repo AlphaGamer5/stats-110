{
 "cells": [
  {
   "cell_type": "markdown",
   "metadata": {},
   "source": [
    "# Lecture 31\n",
    "## Markov chains, Transition Matrix, Stationary Distribution\n",
    "----"
   ]
  },
  {
   "cell_type": "markdown",
   "metadata": {},
   "source": [
    "## What are Markov chains?\n",
    "\n",
    "Markov Chains are an example of a stochastic process, or sequences of random variables evolving over the dimension of time or space. They were invented or discovered by Markov as way to answer the question _Does free will exist?_ However, their application is very wide.\n",
    "\n",
    "Say we have a sequence of random variables $X_0, X_1, X_2, \\cdots$. In our studies up until now, we were assuming that the distributions of these random variables were _independent and individually distributed_. If the index represents time, then this is like starting with a fresh, new independent random variable at each step. \n",
    "\n",
    "A more interesting case is when the random variables are in some way related. But in assuming such a case, the relations can get very complex.\n",
    "\n",
    "Markov Chains are a compromise: they are one level of complexity beyond _i.i.d._, and they come with some very useful properties. For example, think of $X_n$ as the state of a system at a particular and discrete time, like that for a wandering partical jumping from state to state.\n",
    "\n",
    "The indexes or states can be with regards to:\n",
    "\n",
    "* discrete time\n",
    "* continuous time\n",
    "* discrete space\n",
    "* continuous space\n",
    "\n",
    "For this simple introduction, we will limit ourselves to the case of _discrete time, with a finite number of states_ (discrete space), where $n \\in \\mathbb{Z}_{\\geq 0}$."
   ]
  },
  {
   "cell_type": "markdown",
   "metadata": {},
   "source": [
    "## What is the Markov Property? \n",
    "\n",
    "Keeping to our limitations of discrete time and space, assume that $n$ means \"now\" (whatever that might be). We assume $n+1$ to be the \"future\". Then consider that the \"future\" might be characterized by $P(X_{n+1} = j)$, where\n",
    "\n",
    "\\begin{align}\n",
    "  P(X_{n+1} = j | X_{n} = i, X_{n} = i_{n-1}, \\cdots , X_{0} = i_{0})\n",
    "\\end{align}\n",
    "\n",
    "This means that the future depends upon all of the former states in existence. Very complex.\n",
    "\n",
    "But what if we explicitly assumed a simpler model? What if we said that the future is conditionally independent of the past, _given the present_? Then we could say\n",
    "\n",
    "\\begin{align}\n",
    "  P(X_{n+1} = j | X_{n} = i, X_{n} = i_{n-1}, \\cdots , X_{0} = i_{0}) &= P(X_{n+1} = j | X_{n} = i)\n",
    "\\end{align}\n",
    "\n",
    "That is, if this property holds, if we know the current value $X_n$, everything else in the past is irrelevant. This is the **Markov assumption**; this is the **Markov Property**."
   ]
  },
  {
   "cell_type": "markdown",
   "metadata": {},
   "source": [
    "### Definition: transition probability\n",
    "\n",
    "The transition probability in a Markov Chain is given by $P(X_{n+1} = j | X_n = i) = q_{ij}$. If the probability in transitioning from states does not depend on time, then we say the Markov Chain is _homogeneous_.\n",
    "\n",
    "For this simple introduction, again, we will assume the Markov Chains to be homogeneous.\n",
    "\n",
    "Here is a graphical example of a simple 4-state Markov Chain, listing all of its transition probabilities:\n",
    "\n",
    "![title](images/L3101.png)\n",
    "\n",
    "\n",
    "### Definition: transition matrix\n",
    "\n",
    "The _transition matrix_ is then just the matrix representation of a Markov chain's transition probabilities in the form $Q = \\left[ q_{ij} \\right]$in the columns, with the rows representing each possible state.\n",
    "\n",
    "For the example above, that'd be\n",
    "\n",
    "\\begin{align}\n",
    "  Q &= \\begin{pmatrix}\n",
    "    \\frac{1}{3} & \\frac{2}{3} & 0 & 0 \\\\\n",
    "    \\frac{1}{2} & 0 & \\frac{1}{2} & 0 \\\\\n",
    "    0 & 0 & 0 & 1 \\\\\n",
    "    \\frac{1}{2} & 0 & \\frac{1}{4} & \\frac{1}{4} \\\\    \n",
    "    \\end{pmatrix}\n",
    "\\end{align}"
   ]
  },
  {
   "cell_type": "code",
   "execution_count": null,
   "metadata": {
    "collapsed": true
   },
   "outputs": [],
   "source": []
  }
 ],
 "metadata": {
  "kernelspec": {
   "display_name": "Python 3",
   "language": "python",
   "name": "python3"
  },
  "language_info": {
   "codemirror_mode": {
    "name": "ipython",
    "version": 3
   },
   "file_extension": ".py",
   "mimetype": "text/x-python",
   "name": "python",
   "nbconvert_exporter": "python",
   "pygments_lexer": "ipython3",
   "version": "3.6.3"
  }
 },
 "nbformat": 4,
 "nbformat_minor": 2
}
