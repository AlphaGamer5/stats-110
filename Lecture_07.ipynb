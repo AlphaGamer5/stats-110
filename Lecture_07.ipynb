{
 "cells": [
  {
   "cell_type": "markdown",
   "metadata": {},
   "source": [
    "# Gambler's Ruin & Random Variables"
   ]
  },
  {
   "cell_type": "markdown",
   "metadata": {},
   "source": [
    "## Gambler's Ruin\n",
    "\n",
    "2 gamblers $A$ and $B$ are successively playing a game until one wins all the money and the other is ruined (goes bankrupt). There is a sequence of rounds, with a one dollar bet each time. The rounds are independent events. Let $p = P(\\text{A wins a certain round})$ and the inverse is $q = 1 - p$, by convention.\n",
    "\n",
    "_What is the probability that $A$ wins the entire game?_\n",
    "\n",
    "Some clarifications:\n",
    "\n",
    "* there is a total of $N$ dollars in this closed system game (no other money comes into play)\n",
    "* $A$ starts with $i$ dollars, $B$ starts with $N-i$ dollars\n",
    "\n",
    "But where do we begin to solve this problem?\n",
    "\n",
    "### Random Walk\n",
    "\n",
    "A [random walk](https://en.wikipedia.org/wiki/Random_walk) between 2 points on a number line is very similar to the Gambler's Ruin.\n",
    "\n",
    "![title](images/L0701.png)\n",
    "\n",
    "How many rounds could a game last? Is it possible for the game to continue on to infinity?\n",
    "\n",
    "Well, notice how this has a very nice __recursive nature__. If $A$ loses a round, the game can be seen as starting anew at $i-1$, and if he wins, the game would start anew at $i+1$. It is the same problem, but with a different starting condition.\n",
    "\n",
    "### Strategy\n",
    "\n",
    "Conditioning on the _first step_ is called __first step analysis__.\n",
    "\n",
    "Let $P_i = P(\\text{A wins the entire game|A starts with i dollars})$. Then from the Law of Total Probability, we have:\n",
    "\n",
    "\\begin{align}\n",
    "    P_i &= p P_{i+1} + q P_{i-1} \\text{, } & &\\text{where }1 \\lt i \\lt N-1 \\\\\n",
    "    & & & P_0 = 0 \\\\\n",
    "    & & & P_N = 1 \\\\\n",
    "\\end{align}\n",
    "\n",
    "See how this is a recursive equation? This is called a [__difference equation__](http://mathworld.wolfram.com/DifferenceEquation.html), which is a discrete analog of a differential equa}tion.\n",
    "\n",
    "### Solving the Difference Equation\n",
    "\n",
    "\n",
    "\\begin{align}\n",
    "    P_i &= p P_{i+1} + q P_{i-1} & & \\\\\n",
    "    \\\\\n",
    "    \\\\\n",
    "    P_i &= x^i & &\\text{see what happens when we guess with a power} \\\\\n",
    "    \\Rightarrow x^i &= p x^{i+1} + q x^{i-1} \\\\\n",
    "    0 &= p x^2 - x + q & &\\text{factoring out } x^{i-1} \\text{, we are left with a quadratic}\\\\\n",
    "    \\\\\n",
    "    x &= \\frac{1 \\pm \\sqrt{1-4pq}}{2p} & &\\text{solving with the quadratic formula} \\\\\n",
    "      &= \\frac{1 \\pm \\sqrt{(2p-1)^2}}{2p} & &\\text{since }1-4pq = 1-4p(1-p) = 4p^2 - 4p - 1 = (2p -1)^2 \\\\\n",
    "      &= \\frac{1 \\pm (2p-1)}{2p} \\\\\n",
    "      &\\in \\left\\{1, \\frac{q}{p} \\right\\} \\\\\n",
    "    \\\\\n",
    "    \\\\\n",
    "    P_i &= A(1)^i + B\\left(\\frac{q}{p}\\right)^i & &\\text{if } p \\neq q~~~~ \\text{(general solution for difference equation)} \\\\\n",
    "    \\Rightarrow B &= -A & &\\text{from }P_0 = 1\\\\\n",
    "    \\Rightarrow 1 &= A(1)^N + B\\left(\\frac{q}{p}\\right)^N & &\\text{from } P_N = 1\\\\\n",
    "    &= A(1)^N - A\\left(\\frac{q}{p}\\right)^N \\\\\n",
    "    &= A\\left(1-\\frac{q}{p}\\right)^N \\\\\n",
    "    \\\\\n",
    "    \\\\\n",
    "    \\therefore P_i &=\n",
    "        \\begin{cases}\n",
    "            \\frac{1-\\left(\\frac{q}{p}\\right)^i}{1-\\left(\\frac{q}{p}\\right)^N}  & \\quad \\text{ if } p \\neq q \\\\\n",
    "            \\frac{i}{N}  & \\quad \\text{ if } p = q \\\\\n",
    "        \\end{cases}\n",
    "\\end{align}"
   ]
  },
  {
   "cell_type": "markdown",
   "metadata": {},
   "source": [
    "### Example calculations of $P_i$ over a range of $N$\n",
    "\n",
    "Assuming an unfair game:"
   ]
  },
  {
   "cell_type": "code",
   "execution_count": 1,
   "metadata": {
    "collapsed": false
   },
   "outputs": [
    {
     "name": "stdout",
     "output_type": "stream",
     "text": [
      "With N=20 and p=0.49, probability that A wins all is 0.40\n",
      "With N=100 and p=0.49, probability that A wins all is 0.12\n",
      "With N=200 and p=0.49, probability that A wins all is 0.02\n"
     ]
    }
   ],
   "source": [
    "import math\n",
    "\n",
    "def gamblers_ruin(i, p, q, N):\n",
    "    if math.isclose(p,q):\n",
    "        return i/N\n",
    "    else:\n",
    "        return ((1 - (q/p)**i)) / (1 - (q/p)**N)\n",
    "    \n",
    "\n",
    "p = 0.49\n",
    "q = 1.0 - p\n",
    "\n",
    "N = 20\n",
    "i = N/2\n",
    "print(\"With N={} and p={}, probability that A wins all is {:.2f}\".format(N, p, gamblers_ruin(i, p, q, N)))  \n",
    "\n",
    "N = 100\n",
    "i = N/2\n",
    "print(\"With N={} and p={}, probability that A wins all is {:.2f}\".format(N, p, gamblers_ruin(i, p, q, N))) \n",
    "\n",
    "N = 200\n",
    "i = N/2\n",
    "print(\"With N={} and p={}, probability that A wins all is {:.2f}\".format(N, p, gamblers_ruin(i, p, q, N))) "
   ]
  },
  {
   "cell_type": "markdown",
   "metadata": {},
   "source": [
    "And assuming a fair game:"
   ]
  },
  {
   "cell_type": "code",
   "execution_count": 2,
   "metadata": {
    "collapsed": false
   },
   "outputs": [
    {
     "name": "stdout",
     "output_type": "stream",
     "text": [
      "With N=20 and p=0.5, probability that A wins all is 0.50\n",
      "With N=100 and p=0.5, probability that A wins all is 0.50\n",
      "With N=200 and p=0.5, probability that A wins all is 0.50\n"
     ]
    }
   ],
   "source": [
    "p = 0.5\n",
    "q = 1.0 - p\n",
    "\n",
    "N = 20\n",
    "i = N/2\n",
    "print(\"With N={} and p={}, probability that A wins all is {:.2f}\".format(N, p, gamblers_ruin(i, p, q, N)))  \n",
    "\n",
    "N = 100\n",
    "i = N/2\n",
    "print(\"With N={} and p={}, probability that A wins all is {:.2f}\".format(N, p, gamblers_ruin(i, p, q, N))) \n",
    "\n",
    "N = 200\n",
    "i = N/2\n",
    "print(\"With N={} and p={}, probability that A wins all is {:.2f}\".format(N, p, gamblers_ruin(i, p, q, N))) "
   ]
  },
  {
   "cell_type": "markdown",
   "metadata": {
    "collapsed": true
   },
   "source": [
    "----\n",
    "\n",
    "## Appendix A: Solving $P_i$ When $p=q$ Using l'Hopital's Rule\n",
    "\n",
    "To solve for for the case where $p = q$, let $x = \\frac{q}{p}$.\n",
    "\n",
    "\\begin{align}\n",
    "    lim_{x \\rightarrow 1}{\\frac{1-x^i}{1-x^N}} &= lim_{x\\rightarrow1}{\\frac{ix^{i-1}}{Nx^{N-1}}} &\\text{ by l'Hopital's Rule} \\\\\n",
    "    &= \\frac{i}{N}\n",
    "\\end{align}\n"
   ]
  },
  {
   "cell_type": "code",
   "execution_count": null,
   "metadata": {
    "collapsed": true
   },
   "outputs": [],
   "source": []
  }
 ],
 "metadata": {
  "kernelspec": {
   "display_name": "Python 3",
   "language": "python",
   "name": "python3"
  },
  "language_info": {
   "codemirror_mode": {
    "name": "ipython",
    "version": 3
   },
   "file_extension": ".py",
   "mimetype": "text/x-python",
   "name": "python",
   "nbconvert_exporter": "python",
   "pygments_lexer": "ipython3",
   "version": "3.5.1"
  }
 },
 "nbformat": 4,
 "nbformat_minor": 0
}
