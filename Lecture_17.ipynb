{
 "cells": [
  {
   "cell_type": "markdown",
   "metadata": {},
   "source": [
    "# Lecture 17: Moment Generating Functions (MGFs), hybrid Bayes' rule, Laplace's rule of succession"
   ]
  },
  {
   "cell_type": "markdown",
   "metadata": {},
   "source": [
    "## $\\mathbb{Expo}(\\lambda)$ and the  Memorylessness Property\n",
    "\n",
    "#### Theorem: If $X$ is a positive, continuous r.v. with the memorylessness property, then $X \\sim \\mathbb{Expo}(\\lambda)$ for some $\\lambda$.\n",
    "\n",
    "Let $F$ be the CDF of $X$, $G(x) = P(X \\ge x) = 1 - F(x)$.\n",
    "\n",
    "With the memoryless property, $G(s + t) = G(s) \\, G(t)$.\n",
    "\n",
    "This time, rather than trying to solve for $s$ or $t$, we are going to solve for the function $G$, in order to show that it is only the exponential function that has the memorylessness property (in the continuous case).\n",
    "\n",
    "\\begin{align}\n",
    "  & \\text{let } s = t & \\quad \\\\\n",
    "  & \\Rightarrow & G(2t) &= G(t + t) = G(t) \\, G(t) = G(t)^{2} & \\quad \\\\\n",
    "  & & G(3t) &= G(2t) \\, G(t) = G(t)^{2} \\, G(t) = G(t)^{3} & \\quad \\\\\n",
    "  & &\\dots & \\quad \\\\\n",
    "  & & G(kt) &= G(t)^{k} & \\quad  \\\\\n",
    "  \\\\\n",
    "  & \\text{case where } k = \\frac{1}{n} & \\quad \\\\\n",
    "  & \\Rightarrow & G\\left(2 \\, \\frac{t}{2}\\right) &= G\\left(\\frac{t}{2}\\right)^{2} \\text{ so } G\\left(\\frac{t}{2}\\right) = \\sqrt{G(t)} = G(t)^{1/2} & \\quad \\\\\n",
    "  & & G\\left(\\frac{t}{3}\\right) &=  G(t)^{1/3} & \\quad \\\\ \n",
    "  & &\\dots & \\quad \\\\\n",
    "  & & G\\left(\\frac{t}{k}\\right) &= G(t)^{1/k} & \\quad \\\\\n",
    "  \\\\\n",
    "  & \\text{case where } k = \\frac{m}{n} & \\quad \\\\\n",
    "  & \\Rightarrow & G\\left(\\frac{m}{n} \\, t \\right) &= G(t)^{m/n} & \\quad \\\\\n",
    "  \\\\\n",
    "  & \\text{let } x \\in \\mathbb{Q} & \\quad \\\\\n",
    "  & \\Rightarrow & G(x \\, t) &= G(t)^{x} ~~~~ \\text{ for all } x \\ge 0\\\\\n",
    "  \\\\\n",
    "  \\\\\n",
    "  & \\text{now let } t =1 & \\quad \\\\\n",
    "  & \\Rightarrow & G(x) &= G(1)^{x} & \\quad \\\\ \n",
    "  &             &      &= e^{x \\, ln \\, G(1)} ~~~~ \\text{ where } ln \\, G(1) \\text{ is some negative real number } \\\\\n",
    "  &             &      &= e^{-\\lambda x} & \\quad \\blacksquare \\\\\n",
    "\\end{align}\n",
    "\n",
    "And so now we see that in the continuous case, $\\mathbb{Expo}(\\lambda)$ is the only distribution with the memorylessness property."
   ]
  },
  {
   "cell_type": "markdown",
   "metadata": {
    "collapsed": true
   },
   "source": [
    "## Moment Generating Function (MGF)\n",
    "\n",
    "Moment generating functions are an alternative way to describe a distribution.\n",
    "\n",
    "#### Definition\n",
    "\n",
    "A random variable $X$ has MGF $M(t) = \\mathbb{E}(e^{tx})$, as a function of $t$, if this is finite on some $(-a, a)$ where $a > 0$.\n",
    "\n",
    "Note that any function of a random variable _is itself a random variable_, so it makes some sense that we can obtain the expected value $\\mathbb{E}(e^{tx})$ \n",
    "\n",
    "But why is this called _moment-generating_?\n",
    "\n",
    "\\begin{align}\n",
    "  \\mathbb{E}(e^{tx}) &= \\mathbb{E}\\left(\\sum_{n=0}^{\\infty} \\frac{x^{n} \\, t^{n}}{n!} \\right) &\\quad \\text{Taylor expand e} \\\\\n",
    "  &= \\sum_{n=0}^{\\infty} \\left( \\frac{\\mathbb{E}(x^{n}) \\, t^{n}}{2}\\right) &\\quad \\text{ where } \\mathbb{E}(x^{n}) \\text{ is called the } n^{th} \\text{ moment} \\\\\n",
    "\\end{align}\n",
    "\n",
    "#### Moments\n",
    "\n",
    "* the average value for a random variable $X$ $\\mathbb{E}(x)$ is known as the _first moment_\n",
    "* the _second moment_ of $X$ is $\\mathbb{E}(x^{2})$ which helps use derive $\\mathbb{Var}(X)$\n",
    "* higher moments are easily generated (derived), as well\n",
    "\n",
    "### 3 reasons why MGF is important\n",
    "\n",
    "Let $X$ have MGF $M(t)$.\n",
    "\n",
    "1. The first moment $\\mathbb{E}(^{n})$ is the coeficient of $\\frac{t^{n}}{n!}$  in the Taylor series of $M$, i.e., $M^{n}(0) = \\mathbb{E}(x^{n})$\n",
    "1. MGF determines the distribution, i.e., if $X$ and $Y$ have the same MGF, then they have the same CDF\n",
    "1. sums of random variables (convolutions) are difficult; but if we have MGFs, they are _easy_\n",
    "\n",
    "### Sums of MGFs\n",
    "\n",
    "If we have _independent_ r.v. $X$ and $Y$, and we know their respective moment generating functions, then we can easily find the moment generating function for $X + Y$\n",
    "\n",
    "\\begin{align}\n",
    "  M(X + Y) &= \\mathbb{E}(e^{t(x+y)}) \\\\\n",
    "           &= \\mathbb{E}(e^{tx}) \\, \\mathbb{E}(e^{ty}) &\\quad \\text{ by independence}\n",
    "\\end{align}"
   ]
  },
  {
   "cell_type": "code",
   "execution_count": null,
   "metadata": {
    "collapsed": true
   },
   "outputs": [],
   "source": []
  }
 ],
 "metadata": {
  "kernelspec": {
   "display_name": "Python 3",
   "language": "python",
   "name": "python3"
  },
  "language_info": {
   "codemirror_mode": {
    "name": "ipython",
    "version": 3
   },
   "file_extension": ".py",
   "mimetype": "text/x-python",
   "name": "python",
   "nbconvert_exporter": "python",
   "pygments_lexer": "ipython3",
   "version": "3.5.1"
  }
 },
 "nbformat": 4,
 "nbformat_minor": 0
}
