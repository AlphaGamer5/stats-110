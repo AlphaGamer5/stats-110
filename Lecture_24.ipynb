{
 "cells": [
  {
   "cell_type": "markdown",
   "metadata": {},
   "source": [
    "# Lecture 24\n",
    "# Gamma distribution, Poisson processes"
   ]
  },
  {
   "cell_type": "markdown",
   "metadata": {},
   "source": [
    "## Stirling's Approximation to the Factorial\n",
    "\n",
    "\\begin{align}\n",
    "  n! &= n \\, (n-1) \\, (n -1) \\, \\dots \\, 1 \\\\\n",
    "     &\\sim \\sqrt{2 \\pi n} \\, \\left( \\frac{n}{e} \\right)^{n}\n",
    "\\end{align}\n",
    "\n",
    "where $\\sim$ means that the ratio of the two number converges to 1 as $n$ approaches $\\infty$.\n",
    "\n",
    "This is fine when we are talking about $n \\in \\{1,2,3,\\dots\\}$, but have you ever wondered what $\\pi!$ is?\n",
    "\n",
    "For that, we need the Gamma function."
   ]
  },
  {
   "cell_type": "markdown",
   "metadata": {},
   "source": [
    "## Gamma Function\n",
    "\n",
    "Just as an aside, the Beta and Gamma functions are closely related. The Gamma function should be amongst the Top 10 Functions of All Time (if there was ever such a list).\n",
    "\n",
    "\\begin{align}\n",
    "  \\Gamma(a) &= \\int_{0}^{\\infty} x^a \\, e^{-x} \\, \\frac{dx}{x} \\quad \\text{for any real }a \\gt 0 \\\\\n",
    "  &= \\int_{0}^{\\infty} x^{a-1} \\, e^{-x} \\, dx \\quad \\text{(alternately)}\n",
    "\\end{align}\n",
    "\n",
    "Note that if $a$ approaches 0 from the right, the $\\frac{dx}{x}$ is what drives that integral since $x^0 = 1$ and $e^{-0}=1$.\n",
    "\n",
    "But $\\int \\frac{dx}{x} = log(x)$ which blows up to $-\\infty$, which is why we restrict $a \\gt 0$.\n",
    "\n",
    "### Properties of the Gamma Function\n",
    "\n",
    "\\begin{align}\n",
    "  \\Gamma(n) &= (n-1)! \\quad \\text{where }n \\text{ is a positive integer} \\\\\n",
    "  \\\\\n",
    "  \\Gamma(x+1) &= x \\, \\Gamma(x) \\\\\n",
    "  \\\\\n",
    "  \\Gamma(\\frac{1}{2}) &= \\sqrt{\\pi}\n",
    "\\end{align}"
   ]
  },
  {
   "cell_type": "markdown",
   "metadata": {},
   "source": [
    "## Gamma Distribution\n",
    "\n",
    "What would be the PDF for the Gamma distribution? \n",
    "\n",
    "_By normalizing the Gamma function._\n",
    "\n",
    "\\begin{align}\n",
    "  1 &= \\int_{0}^{\\infty} c \\, x^a \\, e^{-x} \\, \\frac{dx}{x} \\\\\n",
    "  &= \\int_{0}^{\\infty} \\frac{1}{\\Gamma(a)} \\, x^a \\, e^{-x} \\, \\frac{dx}{x}\n",
    "\\end{align}\n",
    "\n",
    "And so the PDF for a Gamma distribution would be\n",
    "\n",
    "\\begin{align}\n",
    " Gamma(a,1) &= \\frac{1}{\\Gamma(a)} \\, x^a \\, e^{-x} \\, \\frac{dx}{x} \\quad \\text{for } x \\gt 0 \\\\\\\\\n",
    " \\\\\n",
    " \\text{More generally } Y &\\sim Gamma(a, \\lambda) \\\\\n",
    " \\text{Let } Y &= \\frac{X}{\\lambda} \\text{, where } X \\sim Gamma(a,1) \\\\\n",
    " \\rightarrow y &= \\frac{x}{\\lambda} \\\\\n",
    " x &= \\lambda \\, y \\\\\n",
    " \\frac{dx}{dy} &= \\lambda \\\\\n",
    " \\\\\n",
    " \\Rightarrow f_Y(y) &= f_X(x) \\, \\frac{dx}{dy} \\\\\n",
    " &= \\frac{1}{\\Gamma(a)} \\, (\\lambda y)^a \\, e^{-\\lambda y} \\, \\frac{1}{\\lambda y} \\, \\lambda \\\\\n",
    " &= \\frac{1}{\\Gamma(a)} \\, (\\lambda y)^a \\, e^{-\\lambda y} \\, \\frac{1}{y} \\quad \\text{for } y \\gt 0\n",
    "\\end{align}"
   ]
  },
  {
   "cell_type": "code",
   "execution_count": null,
   "metadata": {
    "collapsed": true
   },
   "outputs": [],
   "source": []
  }
 ],
 "metadata": {
  "kernelspec": {
   "display_name": "Python 3",
   "language": "python",
   "name": "python3"
  },
  "language_info": {
   "codemirror_mode": {
    "name": "ipython",
    "version": 3
   },
   "file_extension": ".py",
   "mimetype": "text/x-python",
   "name": "python",
   "nbconvert_exporter": "python",
   "pygments_lexer": "ipython3",
   "version": "3.6.1"
  }
 },
 "nbformat": 4,
 "nbformat_minor": 2
}
