{
 "cells": [
  {
   "cell_type": "markdown",
   "metadata": {},
   "source": [
    "# Lecture 26\n",
    "# Two envelope paradox (cont.), conditional expectation (cont.), waiting for HT vs. waiting for HH"
   ]
  },
  {
   "cell_type": "markdown",
   "metadata": {
    "collapsed": true
   },
   "source": [
    "## Two-envelope Paradox (continued)\n",
    "\n",
    "\n",
    "![title](images/L2601.png)\n",
    "\n",
    "From [Wikipedia](https://en.wikipedia.org/wiki/Two_envelopes_problem):\n",
    "\n",
    "**Basic setup:** You are given two indistinguishable envelopes, each of which contains a positive sum of money. One envelope contains twice as much as the other. You may pick one envelope and keep whatever amount it contains. You pick one envelope at random but before you open it you are given the chance to take the other envelope instead.\n",
    "\n",
    "There is no indication as to which of $X$ and $Y$ contains the lesser/greater amount.\n",
    "\n",
    "Let's consider two competing arguments:\n",
    "\n",
    "\\begin{align}\n",
    "  &\\text{argument 1: } &\\quad \\mathbb{E}(Y) &= \\mathbb{E}(X) \\\\\n",
    "  \\\\\n",
    "  &\\text{argument 2: } &\\quad \\mathbb{E}(Y) &= \\mathbb{E}(Y|Y=2X) \\, P(Y=2X) \\, + \\, \\mathbb{E}(Y|Y=\\frac{X}{2}) \\, P(Y=\\frac{X}{2}) \\\\\n",
    "  & & &= \\mathbb{E}(2X) \\, \\frac{1}{2} \\, + \\, \\mathbb{E}(\\frac{X}{2}) \\, \\frac{1}{2} \\\\\n",
    "  & & &= \\frac{5}{4} \\, \\mathbb{E}(X)\n",
    "\\end{align}\n",
    "\n",
    "So which argument is correct?\n",
    "\n",
    "Argument 1 is _symmetry_, and that takes precedence.\n",
    "\n",
    "Argument 2, however, has a flaw: we start with a condition, but right after assuming that we equate $\\mathbb{E}(Y|Y=2X)$ with $\\mathbb{E}(2X)$ and $\\mathbb{E}(Y|Y=\\frac{X}{2})$ with $\\mathbb{E}(\\frac{X}{2})$, and then we aren't conditioning any more. There is no reason to confuse a conditional probability with an _unconditional_ probability.\n",
    "\n",
    "\n",
    "* $\\mathbb{E}(Y|Y=2X) \\neq \\mathbb{E}(2X)$\n",
    "* Let $I$ be the indicator of $Y=2X$\n",
    "* Then $X,I$ are _dependent_"
   ]
  },
  {
   "cell_type": "code",
   "execution_count": null,
   "metadata": {
    "collapsed": true
   },
   "outputs": [],
   "source": []
  }
 ],
 "metadata": {
  "kernelspec": {
   "display_name": "Python 3",
   "language": "python",
   "name": "python3"
  },
  "language_info": {
   "codemirror_mode": {
    "name": "ipython",
    "version": 3
   },
   "file_extension": ".py",
   "mimetype": "text/x-python",
   "name": "python",
   "nbconvert_exporter": "python",
   "pygments_lexer": "ipython3",
   "version": "3.6.1"
  }
 },
 "nbformat": 4,
 "nbformat_minor": 2
}
