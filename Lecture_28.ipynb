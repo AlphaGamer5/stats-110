{
 "cells": [
  {
   "cell_type": "markdown",
   "metadata": {},
   "source": [
    "# Lecture 28\n",
    "\n",
    "# Sum of a random number of random variables; Inequalities (Cauchy-Schwarz, Jensen, Markov, Chebyshev)"
   ]
  },
  {
   "cell_type": "code",
   "execution_count": null,
   "metadata": {},
   "outputs": [],
   "source": [
    "import matplotlib\n",
    "import numpy as np\n",
    "import matplotlib.pyplot as plt\n",
    "from scipy.stats import beta\n",
    "%matplotlib inline  \n",
    "\n",
    "plt.xkcd()"
   ]
  },
  {
   "cell_type": "markdown",
   "metadata": {},
   "source": [
    "## Sum of Random Number of Random Variables\n",
    "\n",
    "Let's say there's a store. At this store, there is a random number of customers. Each customer chooses to spend a random amount of money at the store. What can we say about the expected total amount spent at the store? What about its variance?\n",
    "\n",
    "* $N$ is the number of customers (maybe Poisson? it doesn't matter at this point)\n",
    "* $X_j$ be the amount customer $j$ spends\n",
    "* $X_j$ has mean $\\mu$ and variance $\\sigma^2$\n",
    "* assume that $N, \\, X_1, \\, N_2, \\dots$ are independent\n",
    "\n",
    "Find the mean and variance of $X = \\sum_{j=1}^{N} X_j$.\n",
    "\n",
    "Be careful, because $N$ is itself a random variable, and so we are summing up a _random number of random variables_. At this point, $N$ could be any distribution, perhaps Poisson, but we can put that question aside for now. Let's see if we can find some statistics about $X$ in terms of random variable $N$."
   ]
  },
  {
   "cell_type": "markdown",
   "metadata": {},
   "source": [
    "### $\\mathbb{E}(X)$\n",
    "\n",
    "Now, if we blindly tried to apply linearity, we might have:\n",
    "\n",
    "\\begin{align}\n",
    "  \\mathbb{E}(X) &=? \\, N \\, \\mu &\\quad \\text{... no, this cannot be right}\n",
    "\\end{align}\n",
    "\n",
    "But this is a category error, since the right-hand side of that equation is a _value_, while the left-hand side is a _random variable_. However, it does give us a clue: all we need to do is find a way to treat $N$ with a _value_, which we can do by thinking conditionally.\n",
    "\n",
    "There are two ways we can use to find $\\mathbb{E}(X)$:\n",
    "\n",
    "\\begin{align}\n",
    "  &\\text{...conditioning on } N \\text{, the long way} \\\\\n",
    "  \\mathbb{E}(X) &= \\sum_{n=0}^{\\infty} \\mathbb{E}(X|N=n) \\, P(N=n) &\\quad \\text{conditioning on }N \\\\\n",
    "  &= \\sum_{n=0}^{\\infty} \\mu \\, n \\, P(N=n) &\\quad \\text{by linearity, independence} \\\\\n",
    "  &= \\mu \\, \\sum_{n=0}^{\\infty} n \\, P(N=n) &\\quad \\text{but by definition of }\\mathbb{E} \\\\\n",
    "  &= \\boxed{\\mu \\, \\mathbb{E}(N)} \\\\\\\\\n",
    "  \\\\\n",
    "  & \\text{... or using Adam's Law} \\\\\n",
    "  \\mathbb{E}(X) &= \\mathbb{E}\\left( \\mathbb{E}(X|N) \\right) &\\quad \\text{Adam's Law} \\\\\n",
    "  &= \\mathbb{E}(\\mu \\, N) &\\quad \\text{treating } N \\text{ as constant, and by linearity} \\\\\n",
    "  &= \\boxed{\\mu \\, \\mathbb{E}(N)} \n",
    "\\end{align}\n",
    "\n",
    "Note that unlike the 2-envelope paradox covered in lectures 25 and 26, we _can_ forget about the condition $N=n$ _because of the independence of $X_j$_. That fact allows us to use linearity in the second step of finding $\\mathbb{E}(X)$ the long way by conditioning on $N$. "
   ]
  },
  {
   "cell_type": "markdown",
   "metadata": {},
   "source": [
    "### $Var(X)$\n",
    "\n",
    "Here, we will just apply EVvE's Law:\n",
    "\n",
    "\\begin{align}\n",
    "  Var(X) &= \\mathbb{E}\\left( Var(X|N) \\right) + Var\\left( \\mathbb{E}(X|N) \\right) \\quad \\text{and working on each part} \\\\\\\\\n",
    "  \\mathbb{E}\\left( Var(X|N) \\right) &= \\mathbb{E}(N \\sigma^2) \\quad \\text{treating } N \\text{ as fixed, independence} \\\\\n",
    "  &= \\sigma^2 \\, \\mathbb{E}(N) \\\\\n",
    "  \\\\\n",
    "  Var\\left( \\mathbb{E}(X|N) \\right) &= Var(\\mu \\, N) \\quad \\text{} \\\\\n",
    "  &= \\mu^2 \\, Var(N) \\\\\\\\\n",
    "  \\Rightarrow Var(X) &= \\boxed{ \\sigma^2 \\, \\mathbb{E}(N) + \\mu^2 \\, Var(N) }\n",
    "\\end{align}\n",
    "\n",
    "Idiot-checking that result, we confirm that\n",
    "\n",
    "* $\\mathbb{E}(X) = \\mu \\, \\mathbb{E}(N)$ means that the average total sales is the average per-customer spending amount times the average number of customers\n",
    "* $\\sigma^2$ is in terms of money-squared; $\\mu$ is in terms of money, so $Var(X)$ is in terms of money-squared\n",
    "* both $\\mathbb{E}(N)$ and $Var(N)$ are dimensionless values (\"people\" are not units in this case)\n",
    "* if we knew the MGF of each $X_j$, then we could condition on $N$ to treat it as fixed in order to get the MGF of $X$ (multiply by $n$)"
   ]
  },
  {
   "cell_type": "markdown",
   "metadata": {},
   "source": [
    "## Statistical Inequality\n",
    "\n",
    "In the field of law, it is a lot easier to stand in court to use statistical inequalities rather than approximations.\n",
    "\n",
    "Basically, approximations could be painted to be subjective. If you use a Poisson approximation and had to explain yourself in court, you might be hard-pressed to justify why you think your approximation is good. \"Good\" is subject to interpretation; we would claim that an approximation is good if it is close to the truth. But a lawyer might then grill on that, asking you \"Is there some accepted standard to closeness? Do you know how close your approximation is?\"\n",
    "\n",
    "Now if you knew that, then you would already *know* the actual distribution and you wouldn't be using an approximation in the first place!\n",
    "\n",
    "...\n",
    "\n",
    "That sort of argument probably would not fly very well in front of the judge.\n",
    "\n",
    "But inequalities are pretty much unassailable, as they provide a _definite fact about something that is random_."
   ]
  },
  {
   "cell_type": "markdown",
   "metadata": {},
   "source": [
    "### (1) Cauchy-Schwarz Inequality: $\\lvert \\mathbb{E}(XY) \\rvert \\le \\sqrt{\\mathbb{E}(X^2)(Y^2)}$\n",
    "\n",
    "Recall that $\\mathbb{E}(XY)$ is an analog of the dot-product for random variables $X,Y$.\n",
    "\n",
    "Recall the definition of a dot-product in linear algebra.\n",
    "\n",
    "\\begin{align}\n",
    "  \\textbf{a} \\cdot \\textbf{b} &= \\lVert \\mathbf{a} \\rVert \\lVert \\mathbf{b} \\rVert \\mathbf{cos}\\theta \\\\\n",
    "  \\\\\n",
    "  \\mathbb{E}(XY) &\\le \\sqrt{\\mathbb{E}(X^2)(Y^2)}\n",
    "\\end{align}\n",
    "\n",
    "Note that $X,Y$ are uncorrelated, then by definition $\\mathbb{E}(XY) = \\mathbb{E}(X)\\mathbb{E}(Y)$, and so using the Cauchy-Schwarz Inequality is really unnecessary.\n",
    "\n",
    "The Cauchy-Schwarz Inequality really comes in handy when the random variables $X,Y$ are correlated. In such a case where $X,Y$ are correlated and you are interested in $\\mathbb{E}(XY)$, then without using a 2D LOTUS or calculating the distribution of $XY$, we can still find an upper bound to $\\mathbb{E}(XY)$.\n",
    "\n",
    "#### Statistical Interpretation\n",
    "\n",
    "The interpretation is easiest to see if we let $X,Y$ have mean 0.\n",
    "\n",
    "Then:\n",
    "\\begin{align}\n",
    "  \\lvert Corr(X,Y) \\rvert &= \\lvert \\frac{Cov(X,Y)}{\\sqrt{Var(X)} \\sqrt{Var(Y)}} \\rvert \\\\\n",
    "  &= \\lvert \\frac{\\mathbb{E}(XY) - \\mathbb{E}(X)\\mathbb{E}(Y)}{\\sqrt{\\mathbb{E}(X^2)-(\\mathbb{E}(X))^2}\\sqrt{\\mathbb{E}(Y^2)-(\\mathbb{E}(Y))^2}} \\rvert \\\\\n",
    "  &= \\lvert \\frac{\\mathbb{E}(XY)}{\\left(\\mathbb{E}(X^2) \\mathbb{E}(Y^2)\\right)^{\\frac{1}{2}}} \\rvert \\le 1\n",
    "\\end{align}\n",
    "\n",
    "... and the left-hand side of the above equation is *exactly* the Cauchy-Schwarz Inequality. Note that this would hold for any value of mean for $X,Y$.\n",
    "\n",
    "So for statistics, the Cauchy-Schwarz Inequality really just means that the correlation of two random variables will be between -1 and 1. For providing upper bounds to $\\mathbb{E}(XY)$, the Cauchy-Schwarz Inequality's strengths are simplicity and generality."
   ]
  },
  {
   "cell_type": "markdown",
   "metadata": {},
   "source": [
    "### (2) Jensen's Inequality: if $g$ is a convex function, then $\\mathbb{E} g(X) \\ge g(\\mathbb{E}X)$\n",
    "\n",
    "\\begin{align}\n",
    "  \\mathbb{E}g(x) &\\le g(\\mathbb{E}X) &\\quad \\text{if }g(x) \\text{ is concave} \\\\\\\\\n",
    "  \\mathbb{E}h(x) &\\ge h(\\mathbb{E}X) &\\quad \\text{if }h(x) \\text{ is convex} \n",
    "\\end{align}\n",
    "\n",
    "This tells you when $g$ is a convex function which way the inequality goes.\n",
    "\n",
    "Now, a convex function is such that $g^{\\prime\\prime}(x) \\ge 0$ (if $g^{\\prime\\prime}(x)$ exists). Another way of describing it is that if you pick any two points on $g(x)$, the line segment they make will lay above $g(x)$.\n"
   ]
  },
  {
   "cell_type": "code",
   "execution_count": null,
   "metadata": {},
   "outputs": [],
   "source": [
    "x = np.linspace(-10, 10, 1000)\n",
    "y = x**2\n",
    "x2 = [-4,7]\n",
    "y2 = [16,49]\n",
    "\n",
    "_, ax = plt.subplots(figsize=(8,6))\n",
    "ax.axhline(y=0, color='k')\n",
    "ax.axvline(x=0, color='k')\n",
    "\n",
    "ax.set_xticks([])\n",
    "ax.set_yticks([])\n",
    "\n",
    "plt.text(2.0, 80.0, '$g(x)=x^2$,\\n$g^{\\prime\\prime}(x)=2$', color='xkcd:azure')\n",
    "plt.text(-5.5, 10.0, 'A')\n",
    "plt.text(7.5, 42.5, 'B')\n",
    "\n",
    "ax.plot(x, y, 'xkcd:azure')\n",
    "ax.plot(x2,y2,'xkcd:orange', linestyle='--')\n",
    "\n",
    "ax.title.set_text('Convexity: $\\overline{AB}$ lies above $g(x)$ for all points $A,B$')"
   ]
  },
  {
   "cell_type": "code",
   "execution_count": null,
   "metadata": {},
   "outputs": [],
   "source": [
    "x = np.linspace(0.001, 5, 1000)\n",
    "y = 1/x\n",
    "x2 = np.linspace(0.001,5,1000)\n",
    "y2 = np.log(x2)\n",
    "\n",
    "_, ax = plt.subplots(figsize=(8,6))\n",
    "ax.axhline(y=0, color='k')\n",
    "ax.axvline(x=0, color='k')\n",
    "\n",
    "ax.set_xticks([])\n",
    "ax.set_yticks([])\n",
    "ax.set_xlim([-2,5])\n",
    "ax.set_ylim([-2,5])\n",
    "ax.text(0.85, 2.2, (r'$\\mathbb{E}(\\frac{1}{X}) \\geq \\mathbb{E}(X)$' '\\n$X$ is positive, $g(X)$ is convex'), color='xkcd:azure')\n",
    "ax.text(0.85, -1.2, '$\\mathbb{E}(\\ln X) \\leq \\ln \\mathbb{E}(X)$\\n$h(X)$ is concave, inequality flips', color='xkcd:orange')\n",
    "ax.plot(x, y, 'xkcd:azure', label='foo')\n",
    "ax.plot(x2, y2, 'xkcd:orange', label='bar')\n",
    "\n",
    "ax.title.set_text(\"Examples: Jensen's Inequality\")"
   ]
  },
  {
   "cell_type": "markdown",
   "metadata": {},
   "source": [
    "#### Proof\n",
    "\n",
    "We will try a graphical approach to prove Jensen's Inequality."
   ]
  },
  {
   "cell_type": "code",
   "execution_count": null,
   "metadata": {},
   "outputs": [],
   "source": [
    "x = np.linspace(-10, 10, 1000)\n",
    "y = x**2\n",
    "\n",
    "f = 1 + 2*(x - 1)\n",
    "\n",
    "_, ax = plt.subplots(figsize=(8,6))\n",
    "ax.axhline(y=0, color='k')\n",
    "ax.axvline(x=0, color='k')\n",
    "\n",
    "ax.text(1.9, 2.2, ('$y = a + bx$'), color='xkcd:orange')\n",
    "ax.text(1.22, 0.95, ('($x, g(x))$'))\n",
    "\n",
    "ax.set_xticks([])\n",
    "ax.set_yticks([])\n",
    "ax.set_xticks([])\n",
    "ax.set_yticks([])\n",
    "ax.set_xlim([-2,4])\n",
    "ax.set_ylim([-2,4])\n",
    "ax.plot(x, y, 'xkcd:azure')\n",
    "ax.plot(x, f, 'xkcd:orange', alpha=0.4)"
   ]
  },
  {
   "cell_type": "markdown",
   "metadata": {},
   "source": [
    "Referring to the geometric figure above...\n",
    "\n",
    "\\begin{align}\n",
    "  g(x) &\\geq a + bx &\\quad g(x) \\text{ lies above the tangent } y = a + bx \\\\  \n",
    "  \\Rightarrow g(X) &\\geq a + bX &\\quad \\text{inequality applies to r.v. as well} \\\\\n",
    "  \\mathbb{E}\\left( g(X) \\right) &\\geq \\mathbb{E}\\left( a + bX \\right) &\\quad \\mathbb{E} \\text{ as operator} \\\\\\\\\n",
    "  \\mathbb{E}\\left( a + bX \\right) &= a + b \\, \\mathbb{E}(X) \\\\\n",
    "  &= a + b \\, \\mu &\\quad \\text{let } \\mu = \\mathbb{E}(X) \\\\ \n",
    "  &= g(\\mu) \\\\\n",
    "  &= g\\left(\\mathbb{E}(X)\\right) \\\\\\\\\n",
    "  \\therefore \\mathbb{E}\\left( g(X) \\right) &\\geq g\\left(\\mathbb{E}(X)\\right) &\\quad \\blacksquare\n",
    "\\end{align}\n",
    "\n",
    "It is also possible to use Taylor expansions to prove Jensen's Inequality, but that is something for another time."
   ]
  },
  {
   "cell_type": "markdown",
   "metadata": {},
   "source": [
    "### (3) Markov's Inequality: $P(|X| \\geq a) \\leq \\frac{\\mathbb{E}|X|}{a}$ for any $a \\gt 0$ \n",
    "\n",
    "The strength of Markov's Inequality is not in its accuracy of _approximation_, but rather in it simplicity and generality.\n",
    "\n",
    "#### Proof\n",
    "\n",
    "We will use the fundamental bridge to convert the probability of an event to the expected value of the indicator of said event.\n",
    "\n",
    "\\begin{align}\n",
    "  I_{|X| \\geq a} &\\geq |X| &\\quad \\text{always true for } I_{|X| \\geq a} = 0 \\text{ or } I_{|X| \\geq a} = 1 \\\\\n",
    "  a \\, \\mathbb{E} \\, I_{|X| \\geq a} \\geq \\mathbb{E} \\, |X| \\\\\n",
    "  \\mathbb{E} \\, I_{|X| \\geq a} \\geq \\frac{\\mathbb{E} \\, |X|}{a}\n",
    "\\end{align}\n",
    "\n",
    "#### Intuition\n",
    "\n",
    "Suppose that we have 100 people.\n",
    "\n",
    "Q1: Is it possible that at least 95% of the people are younger than the mean age of the group?\n",
    "\n",
    "A1: Yes, if one of those people is really, really old, then that person's age can raise the mean age above a large portion of group.\n",
    "\n",
    "Q2: Is it possible that at least 50% of the people are older than *twice* the mean age?\n",
    "\n",
    "A2: No, since that 50% will raise the mean age beyond that!"
   ]
  },
  {
   "cell_type": "markdown",
   "metadata": {},
   "source": [
    "### (4) Chebyshev's Inequality: $P(|X-\\mu| \\leq \\frac{Var(X)}{a^2}$ for $\\mu = \\mathbb{E}X, a \\gt 0$\n",
    "\n",
    "An alternate way of putting Chebyshev's Inequality is\n",
    "\n",
    "\\begin{align}\n",
    "  P\\left(|X-\\mu| > c \\, SD(X) \\right) \\leq \\frac{1}{c^2} &\\quad \\text{for } c > 0 \\\\\n",
    "\\end{align}\n",
    "\n",
    "Consider this: the probability that $X$ is more than 2 standard deviations from its mean is at most $\\frac{1}{4}$. Recall the Normal distribution and the 68,95,98.7 percent rule? Compared to that rule, Chebyshev's Inequality provides a cruder but still correct relation.\n",
    "\n",
    "#### Proof\n",
    "\n",
    "\\begin{align}\n",
    "  P(|X-\\mu| \\ge a) &= P\\left( (X-\\mu)^2 \\ge a^2 \\right) \\\\\n",
    "  &\\leq \\frac{\\mathbb{E}(X-\\mu)^2}{a^2} &\\quad \\text{by Markov's Inequality} \\\\\n",
    "  &\\leq \\frac{Var(X)}{a^2} &\\quad \\blacksquare\n",
    "\\end{align}"
   ]
  }
 ],
 "metadata": {
  "kernelspec": {
   "display_name": "Python 3",
   "language": "python",
   "name": "python3"
  },
  "language_info": {
   "codemirror_mode": {
    "name": "ipython",
    "version": 3
   },
   "file_extension": ".py",
   "mimetype": "text/x-python",
   "name": "python",
   "nbconvert_exporter": "python",
   "pygments_lexer": "ipython3",
   "version": "3.6.3"
  }
 },
 "nbformat": 4,
 "nbformat_minor": 2
}
