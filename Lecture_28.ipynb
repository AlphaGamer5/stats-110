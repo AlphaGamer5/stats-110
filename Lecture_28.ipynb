{
 "cells": [
  {
   "cell_type": "markdown",
   "metadata": {},
   "source": [
    "# Lecture 28\n",
    "\n",
    "# Sum of a random number of random variables; Inequalities (Cauchy-Schwarz, Jensen, Markov, Chebyshev)"
   ]
  },
  {
   "cell_type": "markdown",
   "metadata": {},
   "source": [
    "## Sum of Random Number of Random Variables\n",
    "\n",
    "Let's say there's a store. At this store, there is a random number of customers. Each customer chooses to spend a random amount of money at the store. What can we say about the expected total amount spent at the store? What about its variance?\n",
    "\n",
    "* $N$ is the number of customers (maybe Poisson? it doesn't matter at this point)\n",
    "* $X_j$ be the amount customer $j$ spends\n",
    "* $X_j$ has mean $\\mu$ and variance $\\sigma^2$\n",
    "* assume that $N, \\, X_1, \\, N_2, \\dots$ are independent\n",
    "\n",
    "Find the mean and variance of $X = \\sum_{j=1}^{N} X_j$.\n",
    "\n",
    "Be careful, because $N$ is itself a random variable, and so we are summing up a _random number of random variables_. At this point, $N$ could be any distribution, perhaps Poisson, but we can put that question aside for now. Let's see if we can find some statistics about $X$ in terms of random variable $N$."
   ]
  },
  {
   "cell_type": "markdown",
   "metadata": {},
   "source": [
    "### $\\mathbb{E}(X)$\n",
    "\n",
    "Now, if we blindly tried to apply linearity, we might have:\n",
    "\n",
    "\\begin{align}\n",
    "  \\mathbb{E}(X) &=? \\, N \\, \\mu &\\quad \\text{... no, this cannot be right}\n",
    "\\end{align}\n",
    "\n",
    "But this is a categorical error, since the right-hand side of that equation is a _value_, while the left-hand side is a _random variable_. However, it does give us a clue: all we need to do is find a way to treat $N$ with a _value_, which we can do by thinking conditionally.\n",
    "\n",
    "There are two ways we can use to find $\\mathbb{E}(X)$:\n",
    "\n",
    "\\begin{align}\n",
    "  &\\text{...conditioning on } N \\text{, the long way} \\\\\n",
    "  \\mathbb{E}(X) &= \\sum_{n=0}^{\\infty} \\mathbb{E}(X|N=n) \\, P(N=n) &\\quad \\text{conditioning on }N \\\\\n",
    "  &= \\sum_{n=0}^{\\infty} \\mu \\, n \\, P(N=n) &\\quad \\text{by linearity, independence} \\\\\n",
    "  &= \\mu \\, \\sum_{n=0}^{\\infty} n \\, P(N=n) &\\quad \\text{but by definition of }\\mathbb{E} \\\\\n",
    "  &= \\boxed{\\mu \\, \\mathbb{E}(N)} \\\\\\\\\n",
    "  \\\\\n",
    "  & \\text{... or using Adam's Law} \\\\\n",
    "  \\mathbb{E}(X) &= \\mathbb{E}\\left( \\mathbb{E}(X|N) \\right) &\\quad \\text{Adam's Law} \\\\\n",
    "  &= \\mathbb{E}(\\mu \\, N) &\\quad \\text{treating } N \\text{ as constant, and by linearity} \\\\\n",
    "  &= \\boxed{\\mu \\, \\mathbb{E}(N)} \n",
    "\\end{align}"
   ]
  },
  {
   "cell_type": "markdown",
   "metadata": {},
   "source": [
    "### $Var(X)$\n",
    "\n",
    "Here, we will just apply EVvE's Law:\n",
    "\n",
    "\\begin{align}\n",
    "  Var(X) &= \\mathbb{E}\\left( Var(X|N) \\right) + Var\\left( \\mathbb{E}(X|N) \\right) \\quad \\text{and working on each part} \\\\\\\\\n",
    "  \\mathbb{E}\\left( Var(X|N) \\right) &= \\mathbb{E}(N \\sigma^2) \\quad \\text{treating } N \\text{ as fixed, independence} \\\\\n",
    "  &= \\sigma^2 \\, \\mathbb{E}(N) \\\\\n",
    "  \\\\\n",
    "  Var\\left( \\mathbb{E}(X|N) \\right) &= Var(\\mu \\, N) \\quad \\text{} \\\\\n",
    "  &= \\mu^2 \\, Var(N) \\\\\\\\\n",
    "  \\Rightarrow Var(X) &= \\boxed{ \\sigma^2 \\, \\mathbb{E}(N) + \\mu^2 \\, Var(N) }\n",
    "\\end{align}\n",
    "\n",
    "Idiot-checking that result, we confirm that\n",
    "\n",
    "* $\\mathbb{E}(X) = \\mu \\, \\mathbb{E}(N)$ means that the average total sales is the per-customer average times the number of customers\n",
    "* $\\sigma^2$ is in terms of money-squared; $\\mu$ is in terms of money, so $Var(X)$ is in terms of money-squared\n",
    "* both $\\mathbb{E}(N)$ and $Var(N)$ are dimensionless values (\"people\" are not units in this case)\n",
    "* if we knew the MGF of each $X_j$, then we could condition on $N$ to treat it as fixed in order to get the MGF of $X$ (multiply by $n$)"
   ]
  },
  {
   "cell_type": "markdown",
   "metadata": {},
   "source": [
    "## Cauchy-Schwarz Inequality"
   ]
  },
  {
   "cell_type": "markdown",
   "metadata": {},
   "source": [
    "## Jensen's Inequality"
   ]
  },
  {
   "cell_type": "markdown",
   "metadata": {},
   "source": [
    "## Markov's Inequality"
   ]
  },
  {
   "cell_type": "markdown",
   "metadata": {},
   "source": [
    "## Chebyshev's Inequality "
   ]
  }
 ],
 "metadata": {
  "kernelspec": {
   "display_name": "Python 3",
   "language": "python",
   "name": "python3"
  },
  "language_info": {
   "codemirror_mode": {
    "name": "ipython",
    "version": 3
   },
   "file_extension": ".py",
   "mimetype": "text/x-python",
   "name": "python",
   "nbconvert_exporter": "python",
   "pygments_lexer": "ipython3",
   "version": "3.6.3"
  }
 },
 "nbformat": 4,
 "nbformat_minor": 2
}
