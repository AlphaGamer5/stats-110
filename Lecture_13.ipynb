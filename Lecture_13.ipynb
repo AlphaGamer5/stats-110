{
 "cells": [
  {
   "cell_type": "markdown",
   "metadata": {},
   "source": [
    "# Lecture 13: standard Normal, Normal normalizing constant"
   ]
  },
  {
   "cell_type": "markdown",
   "metadata": {},
   "source": [
    "## Proof of the Universality of $Unif(0,1)$\n",
    "\n",
    "Let $F$ be a _continuous_, _strictly increasing_ CDF.\n",
    "\n",
    "Then \n",
    "\n",
    "\\begin{align}\n",
    "  &X = F^{-1}(U) \\sim F & &\\text{if } U \\sim Unif(0,1) & &\\text{(1)}\\\\\n",
    "  \\\\\n",
    "  &F(X) \\sim Unif(0,1) & &\\text{if } X \\sim F & &\\text{(2)}\n",
    "\\end{align}\n",
    "\n",
    "$F$ is just a function, and hence we can treat it like an operator. \n",
    "\n",
    "Also, like $X$, $F(X)$ is just another r.v.\n",
    "\n",
    "### Interpreting the Universality of $Unif(0,1)$\n",
    "\n",
    "_How to interpret this universality?_\n",
    "\n",
    "\\begin{align}\n",
    "  &F(x) = P(X \\le x) & &\\text{does not imply that } \\\\\n",
    "  \\\\\n",
    "  \\require{cancel} &\\bcancel{F(X) = P(X \\le X)} & &\\because P(X \\le X) = 1\\\\\n",
    "  \\\\\n",
    "  \\\\  \n",
    "  &F(x) = 1 - e^{-x} & &\\text{where } x \\gt 0 \\\\\n",
    "  &F(X) = 1 - e^{-X}\n",
    "\\end{align}\n",
    "\n",
    "----"
   ]
  },
  {
   "cell_type": "code",
   "execution_count": null,
   "metadata": {
    "collapsed": true
   },
   "outputs": [],
   "source": []
  }
 ],
 "metadata": {
  "kernelspec": {
   "display_name": "Python 3",
   "language": "python",
   "name": "python3"
  },
  "language_info": {
   "codemirror_mode": {
    "name": "ipython",
    "version": 3
   },
   "file_extension": ".py",
   "mimetype": "text/x-python",
   "name": "python",
   "nbconvert_exporter": "python",
   "pygments_lexer": "ipython3",
   "version": "3.5.1"
  }
 },
 "nbformat": 4,
 "nbformat_minor": 0
}
