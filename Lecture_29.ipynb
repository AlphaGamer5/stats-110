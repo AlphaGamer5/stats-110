{
 "cells": [
  {
   "cell_type": "markdown",
   "metadata": {},
   "source": [
    "# Lecture 29\n",
    "\n",
    "# Law of Large Numbers, Central Limit "
   ]
  },
  {
   "cell_type": "markdown",
   "metadata": {},
   "source": [
    "## Law of Large Numbers\n",
    "\n",
    "Let $X_1, X_2, \\dots $ be i.i.d. random variables all with with mean $\\mu$ and variance $\\sigma^2$.\n",
    "\n",
    "Let the *sample mean* be denoted by $\\bar{X_n} = \\frac{1}{n}\\sum_{i=1}^{n}X_j$, where $n$ is the sample size.\n",
    "\n",
    "_What can we say about $\\bar{X_n}$ when $n$ gets large?_\n",
    "\n",
    "\n",
    "### (Strong) Law of Large Numbers: $\\bar{X_n} \\rightarrow \\mu$ as $n \\rightarrow \\infty$ with probability 1.0\n",
    "\n",
    "* this means that the sample mean $\\bar{X_n}$ converges (point-wise) to the true mean $\\mu$ when $n$ gets large\n",
    "* hence it allows us to make an approximation of the true mean without having to actually carry out an infinite amount of experiments\n",
    "\n",
    "#### Example\n",
    "\n",
    "\\begin{align}\n",
    "  X_j &\\sim Bern(p) \\text{, then } \\frac{X_1 + \\dots + X_n}{n} \\rightarrow p \\text{ with probability 1.0}\n",
    "\\end{align}\n",
    "\n",
    "\n",
    "### (Weak) Law of Large Numbers: $\\text{for any } c > 0 \\text{, } P( \\lvert \\bar{X_n} - \\mu > c \\rvert ) \\rightarrow 0 \\text{ as } n \\rightarrow \\infty$\n",
    "\n",
    "* $c$ could be some small number, say, 0.001\n",
    "* if $n$ is large, it is extremely likely that the sample mean is close to true mean\n",
    "\n",
    "#### Proof\n",
    "\n",
    "\\begin{align}\n",
    "  P( \\lvert \\bar{X_n} - \\mu \\rvert > c) &\\leq \\frac{Var(\\bar{X_n})}{c^2} \\quad \\text{Chebyshev's Inequality} \\\\\n",
    "  \\\\\n",
    "  \\text{but } \\frac{Var(\\bar{X_n})}{c^2} &= \\frac{ \\frac{1}{n^2} n \\, \\sigma^2 }{c^2} \\\\\n",
    "  &= \\frac{\\sigma^2}{n \\, c^2} \\\\\n",
    "  &= 0 \\text{ as } n \\rightarrow \\infty \\quad \\blacksquare\n",
    "\\end{align}"
   ]
  },
  {
   "cell_type": "markdown",
   "metadata": {},
   "source": [
    "## Central Limit Theorem\n",
    "\n",
    "Another way to think about the Law of Large Numbers is to see that \n",
    "\n",
    "\\begin{align}\n",
    "  \\displaystyle{\\lim_{n \\to \\infty}} \\, \\bar{X_n} - \\mu &= 0 \\\\\n",
    "\\end{align}\n",
    "\n",
    "However, this is only thinking point-wise.\n",
    "\n",
    "* *But what is the distribution of $\\bar{X_n}$?*\n",
    "* What does that distribution look like?_\n",
    "* That might be going to 0, but how fast is it doing so?_\n",
    "\n",
    "One way to study the distribution of $\\bar{X_n}$ is to multiply $(\\bar{X_n} - \\mu)$ by some variable that itself goes to $\\infty$.\n",
    "\n",
    "* if that product goes to $\\infty$, then we know that the variable we have chosen is dominating over $(\\bar{X_n} - \\mu)$\n",
    "* and if that product instead still approaches 0, then that also tells us something significant about $(\\bar{X_n} - \\mu)$\n",
    "\n",
    "Consider:\n",
    "\n",
    "\\begin{align}\n",
    "  n^{?} \\, (\\bar{X_n} - \\mu)\n",
    "\\end{align}\n",
    "\n",
    "We could learn more about the distribution of $\\bar{X_n}$ by selecting some positive power of $n$, and thinking about what happens.\n",
    "\n",
    "### The Central Limit Theorem\n",
    "\n",
    "\\begin{align}\n",
    "  n^{1/2} \\, \\frac{(\\bar{X_n} - \\mu)}{\\sigma} \\rightarrow \\mathcal{N}(0,1) \\quad \\text{in distribution} \\\\\n",
    "\\end{align}\n",
    "\n",
    "* $X$ may be discrete or it may be continuous\n",
    "* we do need to assume that $X$ has a finite variance\n",
    "* the CDF of $X$ will converge to CDF $\\Phi$\n",
    "* CLT is the justification for using normal approximations\n",
    "* $n^{1/2}$ is _just right_; that is what allows for a non-degenerate distribution that actually converges into something beautiful and useful (it doesn't just go to 0 or blow up to $\\infty$)"
   ]
  },
  {
   "cell_type": "code",
   "execution_count": null,
   "metadata": {
    "collapsed": true
   },
   "outputs": [],
   "source": []
  }
 ],
 "metadata": {
  "kernelspec": {
   "display_name": "Python 3",
   "language": "python",
   "name": "python3"
  },
  "language_info": {
   "codemirror_mode": {
    "name": "ipython",
    "version": 3
   },
   "file_extension": ".py",
   "mimetype": "text/x-python",
   "name": "python",
   "nbconvert_exporter": "python",
   "pygments_lexer": "ipython3",
   "version": "3.6.3"
  }
 },
 "nbformat": 4,
 "nbformat_minor": 2
}
