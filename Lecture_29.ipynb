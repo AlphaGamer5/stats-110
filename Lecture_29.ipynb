{
 "cells": [
  {
   "cell_type": "markdown",
   "metadata": {},
   "source": [
    "# Lecture 29\n",
    "\n",
    "# Law of Large Numbers, Central Limit "
   ]
  },
  {
   "cell_type": "markdown",
   "metadata": {},
   "source": [
    "## Law of Large Numbers\n",
    "\n",
    "Let $X_1, X_2, \\dots $ be random variables all with with mean $\\mu$ and variance $\\sigma^2$.\n",
    "\n",
    "Let the *sample mean* be denoted by $\\bar{X_n} = \\frac{1}{n}\\sum_{i=1}^{n}X_j$, where $n$ is the sample size.\n",
    "\n",
    "_What can we say about $\\bar{X_n}$ when $n$ gets large?_\n",
    "\n",
    "\n",
    "#### Law of Large Numbers: $\\bar{X_n} \\rightarrow \\mu$ as $n \\rightarrow \\infty$ with probability 1.0\n",
    "\n",
    "* This means that the sample mean converges to the true mean when $n$ gets large."
   ]
  },
  {
   "cell_type": "code",
   "execution_count": null,
   "metadata": {
    "collapsed": true
   },
   "outputs": [],
   "source": []
  },
  {
   "cell_type": "markdown",
   "metadata": {},
   "source": [
    "## Central Limit Theorem"
   ]
  },
  {
   "cell_type": "code",
   "execution_count": null,
   "metadata": {
    "collapsed": true
   },
   "outputs": [],
   "source": []
  }
 ],
 "metadata": {
  "kernelspec": {
   "display_name": "Python 3",
   "language": "python",
   "name": "python3"
  },
  "language_info": {
   "codemirror_mode": {
    "name": "ipython",
    "version": 3
   },
   "file_extension": ".py",
   "mimetype": "text/x-python",
   "name": "python",
   "nbconvert_exporter": "python",
   "pygments_lexer": "ipython3",
   "version": "3.6.3"
  }
 },
 "nbformat": 4,
 "nbformat_minor": 2
}
