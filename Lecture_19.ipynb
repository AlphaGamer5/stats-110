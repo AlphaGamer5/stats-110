{
 "cells": [
  {
   "cell_type": "markdown",
   "metadata": {},
   "source": [
    "# Joint, Conditional and Marginal Distributions; 2D LOTUS; Expected Distance between Uniforms; Chicken-Egg Problem"
   ]
  },
  {
   "cell_type": "markdown",
   "metadata": {},
   "source": [
    "## Joint, Conditional and Marginal Distributions\n",
    "\n",
    "### Joint CDF\n",
    "A joint CDF is simply where we are dealing with multiple random variables. As an example, a case where we have two random variables $X, Y$, the joint CDF of two random variables $X, Y$ can be expressed as:\n",
    "\n",
    "\\begin{align}\n",
    "  F(x,y) &= P(X \\le x, Y \\le y)\n",
    "\\end{align}\n",
    "\n",
    "Note that the random variables may be discrete, continuous, or a mixture of both.\n",
    "\n",
    "### Joint PDF\n",
    "The joint PDF, in the case of _continuous_ random variables, is what you would _integrate_ to get the joint CDF. Continuing with our example of two (continous) random variables, we have:\n",
    "\n",
    "\\begin{align}\n",
    "  f(x,y) &= \\frac{\\partial^2}{\\partial{x}\\partial{y}} F(x,y)\n",
    "\\end{align}\n",
    "\n",
    "Conversely, if we want to know the probability of $X,Y$ in some set $A$, we _integrate_ the density to get that probability.\n",
    "\n",
    "\\begin{align}\n",
    "  P\\left((X,Y) \\in A\\right) &= \\iint\\limits_{A} f(x,y) \\, dxdy\n",
    "\\end{align}\n",
    "\n",
    "Integrate holding on variable constant, and then do the other. The key thing is to be sure to get the _limits of integration_ correct.\n",
    "\n",
    "### Marginal PDF\n",
    "The _marginal PDF of $X$_ is obtained by _integrating out the $Y$_. Recall the $X,Y$ contigency table and the definition of marginal.\n",
    "\n",
    "\\begin{align}\n",
    "  \\int_{-\\infty}^{\\infty} f(x,y) \\, dy\n",
    "\\end{align}\n",
    "\n",
    "Notice that by keeping $X$ constant and _integrating over all $Y$_, the marginal PDF of $X$ no longer depends on $Y$.\n",
    "\n",
    "And we can do vice-versa for the marginal PDF of $Y$, but keeping $Y$ constant and _integrating over all $X$_.\n",
    "\n",
    "Do not forget that taking the marginal PDF of $X$ and then integrating over all $X$, we should get 1.0.\n",
    "\n",
    "\\begin{align}\n",
    "  \\int\\limits_{-\\infty}^{\\infty} \\int\\limits_{-\\infty}^{\\infty} f(x,y) \\, dx dy &= 1.0\n",
    "\\end{align}\n",
    "\n",
    "### Conditional PDF\n",
    "\n",
    "Given that we know $X$, what is the appropriate PDF for $Y$?\n",
    "\n",
    "Well, we can apply what we know about _conditional probability_ to get a conditional PDF.\n",
    "\n",
    "\\begin{align}\n",
    "  f_{Y|X} (y|x) &= \\frac{f_{XY}(x,y)}{f_{X}(x)} \\\\\n",
    "    &= \\frac{f_{X|Y}(x,y) \\, f_{Y}(y)}{f_{X}(x)}\n",
    "\\end{align}\n",
    "\n",
    "This is completely analogous to conditional probability. \n",
    "\n",
    "### Indepence\n",
    "\n",
    "$X,Y$ are independent if\n",
    "\n",
    "\\begin{align}\n",
    "  f_{X,Y}(x,y) &= f_{X}(x) \\, f_{Y}(y)\n",
    "\\end{align}\n",
    "\n",
    "for _all_ $x,y$, in the case of continous PDFs. \n",
    "\n",
    "See how we can say the same thing using CDFs:\n",
    "\n",
    "\\begin{align}\n",
    "  F(x,y) &= F(x) \\, F(y)\n",
    "\\end{align}\n",
    "\n",
    "for _all_ $x,y$. "
   ]
  },
  {
   "cell_type": "code",
   "execution_count": null,
   "metadata": {
    "collapsed": true
   },
   "outputs": [],
   "source": []
  }
 ],
 "metadata": {
  "kernelspec": {
   "display_name": "Python 3",
   "language": "python",
   "name": "python3"
  },
  "language_info": {
   "codemirror_mode": {
    "name": "ipython",
    "version": 3
   },
   "file_extension": ".py",
   "mimetype": "text/x-python",
   "name": "python",
   "nbconvert_exporter": "python",
   "pygments_lexer": "ipython3",
   "version": "3.5.1"
  }
 },
 "nbformat": 4,
 "nbformat_minor": 0
}
