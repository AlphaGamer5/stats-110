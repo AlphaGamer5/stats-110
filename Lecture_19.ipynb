{
 "cells": [
  {
   "cell_type": "markdown",
   "metadata": {},
   "source": [
    "# Lecture 19\n",
    "\n",
    "## Joint, Conditional and Marginal Distributions; 2D LOTUS; Expected Distance between Uniforms; Chicken-Egg Problem"
   ]
  },
  {
   "cell_type": "markdown",
   "metadata": {},
   "source": [
    "### Joint, Conditional and Marginal Distributions\n",
    "\n",
    "#### Joint CDF\n",
    "A joint CDF is simply where we are dealing with multiple random variables. As an example, a case where we have two random variables $X, Y$, the joint CDF of two random variables $X, Y$ can be expressed as:\n",
    "\n",
    "\\begin{align}\n",
    "  F(x,y) &= P(X \\le x, Y \\le y)\n",
    "\\end{align}\n",
    "\n",
    "Note that the random variables may be discrete, continuous, or a mixture of both.\n",
    "\n",
    "#### Joint PDF\n",
    "The joint PDF, in the case of _continuous_ random variables, is what you would _integrate_ to get the joint CDF. Continuing with our example of two (continous) random variables, we have:\n",
    "\n",
    "\\begin{align}\n",
    "  f(x,y) &= \\frac{\\partial^2}{\\partial{x}\\partial{y}} F(x,y)\n",
    "\\end{align}\n",
    "\n",
    "Conversely, if we want to know the probability of $X,Y$ in some set $A$, we _integrate_ the density to get that probability.\n",
    "\n",
    "\\begin{align}\n",
    "  P\\left((X,Y) \\in A\\right) &= \\iint\\limits_{A} f(x,y) \\, dxdy\n",
    "\\end{align}\n",
    "\n",
    "Integrate by holding one variable constant, and then do the other. The key thing is to be sure to get the _limits of integration_ correct.\n",
    "\n",
    "#### Marginal PDF\n",
    "The _marginal PDF of $X$_ is obtained by _integrating out the $Y$_. Recall the $X,Y$ contigency table and the definition of marginal probability.\n",
    "\n",
    "\\begin{align}\n",
    "  \\int_{-\\infty}^{\\infty} f(x,y) \\, dy\n",
    "\\end{align}\n",
    "\n",
    "Notice that by keeping $X$ constant and _integrating over all $Y$_, the marginal PDF of $X$ no longer depends on $Y$.\n",
    "\n",
    "And we can do vice-versa for the marginal PDF of $Y$, but keeping $Y$ constant and _integrating over all $X$_.\n",
    "\n",
    "Do not forget that taking the marginal PDF of $X$ and then integrating over all $X$, we should get 1.0.\n",
    "\n",
    "\\begin{align}\n",
    "  \\int\\limits_{-\\infty}^{\\infty} \\int\\limits_{-\\infty}^{\\infty} f(x,y) \\, dx dy &= 1.0\n",
    "\\end{align}\n",
    "\n",
    "#### Conditional PDF\n",
    "\n",
    "Given that we know $X$, what is the appropriate PDF for $Y$?\n",
    "\n",
    "Well, we can apply what we know about _conditional probability_ to get a conditional PDF.\n",
    "\n",
    "\\begin{align}\n",
    "  f_{Y|X} (y|x) &= \\frac{f_{XY}(x,y)}{f_{X}(x)} \\\\\n",
    "    &= \\frac{f_{X|Y}(x|y) \\, f_{Y}(y)}{f_{X}(x)}\n",
    "\\end{align}\n",
    "\n",
    "This is completely analogous to conditional probability. \n",
    "\n",
    "#### Independence\n",
    "\n",
    "$X,Y$ are independent if\n",
    "\n",
    "\\begin{align}\n",
    "  f_{X,Y}(x,y) &= f_{X}(x) \\, f_{Y}(y) &\\quad \\text{for all }x, y \\text{ from PDF p.o.v.} \\\\\n",
    "  \\\\\n",
    "  F(x,y) &= F(x) \\, F(y) &\\quad \\text{for all }x, y \\text{ from CDF p.o.v.} \n",
    "\\end{align}\n",
    "\n",
    "These statements are equivalent, but in most cases it might be easier to work the PDFs.\n",
    "\n",
    "----"
   ]
  },
  {
   "cell_type": "markdown",
   "metadata": {
    "collapsed": true
   },
   "source": [
    "### A Uniform example\n",
    "\n",
    "Let's revisit that distribution that is uniform on the unit disc $x^2 + y^2 = 1$."
   ]
  },
  {
   "cell_type": "code",
   "execution_count": 15,
   "metadata": {
    "collapsed": false
   },
   "outputs": [
    {
     "data": {
      "image/png": "[encoded data removed]",
      "text/plain": [
       "<matplotlib.figure.Figure at 0x2bf458bc898>"
      ]
     },
     "metadata": {},
     "output_type": "display_data"
    }
   ],
   "source": [
    "import matplotlib\n",
    "import numpy as np\n",
    "import matplotlib.pyplot as plt\n",
    "%matplotlib inline  \n",
    "\n",
    "plt.xkcd()\n",
    "\n",
    "fig = plt.figure(figsize = (5.0,5.0))\n",
    "ax = fig.add_subplot(1, 1, 1)\n",
    "ax.set_xlim([-1.5,1.5])\n",
    "ax.set_ylim([-1.5,1.5])\n",
    "circ = plt.Circle((0, 0), radius=1.0, color=\"b\", alpha=0.2, lw=5)\n",
    "ax.add_patch(circ)\n",
    "plt.axhline(0)\n",
    "plt.axvline(0)\n",
    "plt.show()"
   ]
  },
  {
   "cell_type": "markdown",
   "metadata": {},
   "source": [
    "#### Joint PDF\n",
    "\n",
    "The joint PDF is required to integrate to 1.0 and so we have\n",
    "\n",
    "\\begin{align}\n",
    "  f_{XY}(x,y) &= \n",
    "    \\begin{cases}\n",
    "      \\frac{1}{\\pi}  & \\quad \\text{if } x^2 + y^2 \\le 1 \\\\\n",
    "      0  & \\quad \\text{otherwise}\\\\\n",
    "    \\end{cases}\n",
    "\\end{align}\n",
    "\n",
    "#### Marginal PDF of $X$\n",
    "\n",
    "\\begin{align}\n",
    "  f_{X}(x) &= \\int_{-\\sqrt{1-x^2}}^{\\sqrt{1-x^2}} \\frac{1}{\\pi} dy \\\\\n",
    "  \\\\\n",
    "  &= \\frac{2}{\\pi} \\sqrt{1-x^2} &\\quad \\text{where } -1 \\le x \\le 1\n",
    "\\end{align}\n",
    "\n",
    "Notice that while the joint PDF is Uniform, the marginal PDF is not Uniform: it grows as $x$ approaches 0. \n",
    "\n",
    "By _symmetry_ we can just replace $x$ with $y$ to get $f_{Y}(y)$\n",
    "\n",
    "#### Conditional PDF of $Y|X$\n",
    "\n",
    "\\begin{align}\n",
    "  f_{Y|X}(y|x) &= \\frac{f_{XY}(x,y)}{f_{X}(x)} \\\\\n",
    "  &= \\frac{\\frac{1}{\\pi}}{\\frac{2}{\\pi} \\sqrt{1-x^2}} \\\\\n",
    "  &= \\frac{1}{2 \\sqrt{1-x^2}} &\\quad \\text{if } -\\sqrt{1-x^2} \\le y \\le \\sqrt{1-x^2}\n",
    "\\end{align}\n",
    "\n",
    "But since we are treating $x$ as a constant, and the above equation does not _depend on $y$_, $f_{Y|X}(y|x)$ is actually Uniform.\n",
    "\n",
    "\\begin{align}\n",
    "  Y|X &\\sim Unif(-\\sqrt{1-x^2}, \\sqrt{1-x^2}) &\\quad \\text{or also } \\\\\n",
    "  \\\\\n",
    "  Y|X=x \\, &\\sim Unif(-\\sqrt{1-x^2}, \\sqrt{1-x^2})\n",
    "\\end{align}\n",
    "\n",
    "#### Non-independence\n",
    "\n",
    "Since in our example above\n",
    "\n",
    "\\begin{align}\n",
    "  f_{XY}(x,y) \\neq f_{X}(x) \\, f_{Y}(y)\n",
    "\\end{align}\n",
    "\n",
    "we can see that $X,Y$ are not independent.\n",
    "\n",
    "Or, because the _unconditional_ distribution of $Y$ is not the same as the _conditional_ distribution of $Y|X$, it necessarily follows that $X,Y$ are not independent as learning $X$ gives us information.\n"
   ]
  },
  {
   "cell_type": "code",
   "execution_count": null,
   "metadata": {
    "collapsed": true
   },
   "outputs": [],
   "source": []
  }
 ],
 "metadata": {
  "kernelspec": {
   "display_name": "Python 3",
   "language": "python",
   "name": "python3"
  },
  "language_info": {
   "codemirror_mode": {
    "name": "ipython",
    "version": 3
   },
   "file_extension": ".py",
   "mimetype": "text/x-python",
   "name": "python",
   "nbconvert_exporter": "python",
   "pygments_lexer": "ipython3",
   "version": "3.5.1"
  }
 },
 "nbformat": 4,
 "nbformat_minor": 0
}
