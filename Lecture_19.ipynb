{
 "cells": [
  {
   "cell_type": "markdown",
   "metadata": {},
   "source": [
    "# Lecture 19\n",
    "\n",
    "## Joint, Conditional and Marginal Distributions; 2D LOTUS; Expected Distance between Uniforms; Chicken-egg Problem"
   ]
  },
  {
   "cell_type": "markdown",
   "metadata": {},
   "source": [
    "### Joint, Conditional and Marginal Distributions\n",
    "\n",
    "#### Joint CDF\n",
    "A joint CDF is simply where we are dealing with multiple random variables. As an example, a case where we have two random variables $X, Y$, the joint CDF of two random variables $X, Y$ can be expressed as:\n",
    "\n",
    "\\begin{align}\n",
    "  F(x,y) &= P(X {\\le} x, Y {\\le} y)\n",
    "\\end{align}\n",
    "\n",
    "Note that the random variables may be discrete, continuous, or a mixture of both.\n",
    "\n",
    "#### Joint PDF\n",
    "The joint PDF, in the case of _continuous_ random variables, is what you would _integrate_ to get the joint CDF. Continuing with our example of two (continous) random variables, we have:\n",
    "\n",
    "\\begin{align}\n",
    "  f(x,y) &= \\frac{\\partial^2}{\\partial{x}\\partial{y}} F(x,y)\n",
    "\\end{align}\n",
    "\n",
    "Conversely, if we want to know the probability of $X,Y$ in some set $A$, we _integrate_ the density to get that probability.\n",
    "\n",
    "\\begin{align}\n",
    "  P\\left((X,Y) \\in A\\right) &= \\iint\\limits_{A} f(x,y) \\, dxdy\n",
    "\\end{align}\n",
    "\n",
    "Integrate by holding one variable constant, and then do the other. The key thing is to be sure to get the _limits of integration_ correct.\n",
    "\n",
    "#### Marginal PDF\n",
    "The _marginal PDF of $X$_ is obtained by _integrating out the $Y$_. Recall the $X,Y$ contigency table and the definition of marginal probability.\n",
    "\n",
    "\\begin{align}\n",
    "  \\int_{-\\infty}^{\\infty} f(x,y) \\, dy\n",
    "\\end{align}\n",
    "\n",
    "Notice that by keeping $X$ constant and _integrating over all $Y$_, the marginal PDF of $X$ no longer depends on $Y$.\n",
    "\n",
    "And we can do vice-versa for the marginal PDF of $Y$, but keeping $Y$ constant and _integrating over all $X$_.\n",
    "\n",
    "Do not forget that taking the marginal PDF of $X$ and then integrating over all $X$, we should get 1.0.\n",
    "\n",
    "\\begin{align}\n",
    "  \\int\\limits_{-\\infty}^{\\infty} \\int\\limits_{-\\infty}^{\\infty} f(x,y) \\, dx dy &= 1.0\n",
    "\\end{align}\n",
    "\n",
    "#### Conditional PDF\n",
    "\n",
    "Given that we know $X$, what is the appropriate PDF for $Y$?\n",
    "\n",
    "Well, we can apply what we know about _conditional probability_ to get a conditional PDF.\n",
    "\n",
    "\\begin{align}\n",
    "  f_{Y|X} (y|x) &= \\frac{f_{XY}(x,y)}{f_{X}(x)} \\\\\n",
    "    &= \\frac{f_{X|Y}(x|y) \\, f_{Y}(y)}{f_{X}(x)}\n",
    "\\end{align}\n",
    "\n",
    "This is completely analogous to conditional probability. \n",
    "\n",
    "#### Independence\n",
    "\n",
    "$X,Y$ are independent if\n",
    "\n",
    "\\begin{align}\n",
    "  f_{X,Y}(x,y) &= f_{X}(x) \\, f_{Y}(y) &\\quad \\text{for all }x, y \\text{ from PDF p.o.v.} \\\\\n",
    "  \\\\\n",
    "  F(x,y) &= F(x) \\, F(y) &\\quad \\text{for all }x, y \\text{ from CDF p.o.v.} \n",
    "\\end{align}\n",
    "\n",
    "These statements are equivalent, but in most cases it might be easier to work the PDFs.\n",
    "\n",
    "----"
   ]
  },
  {
   "cell_type": "markdown",
   "metadata": {
    "collapsed": true
   },
   "source": [
    "### A Uniform example\n",
    "\n",
    "Let's revisit that distribution that is uniform on the unit disc $x^2 + y^2 \\le 1$."
   ]
  },
  {
   "cell_type": "code",
   "execution_count": 21,
   "metadata": {
    "collapsed": false
   },
   "outputs": [
    {
     "data": {
      "image/png": "[encoded data removed]",
      "text/plain": [
       "<matplotlib.figure.Figure at 0x2bf4574f6a0>"
      ]
     },
     "metadata": {},
     "output_type": "display_data"
    }
   ],
   "source": [
    "import matplotlib\n",
    "import numpy as np\n",
    "import matplotlib.pyplot as plt\n",
    "%matplotlib inline  \n",
    "\n",
    "plt.xkcd()\n",
    "\n",
    "fig = plt.figure(figsize = (5.0,5.0))\n",
    "ax = fig.add_subplot(1, 1, 1)\n",
    "ax.set_xlim([-1.5,1.5])\n",
    "ax.set_ylim([-1.5,1.5])\n",
    "circ = plt.Circle((0, 0), radius=1.0, color=\"b\", alpha=0.2, lw=5)\n",
    "ax.add_patch(circ)\n",
    "plt.axhline(0, color=\"black\", alpha=0.4)\n",
    "plt.axvline(0, color=\"black\", alpha=0.4)\n",
    "plt.show()"
   ]
  },
  {
   "cell_type": "markdown",
   "metadata": {},
   "source": [
    "#### Joint PDF\n",
    "\n",
    "A valid PDF is required to integrate to 1.0, and since we are looking at a Uniform distribution over the unit circle with area equal to $\\pi$,  we have\n",
    "\n",
    "\\begin{align}\n",
    "  f_{XY}(x,y) &= \n",
    "    \\begin{cases}\n",
    "      \\frac{1}{\\pi}  & \\quad \\text{if } x^2 + y^2 \\le 1 \\\\\n",
    "      0  & \\quad \\text{otherwise}\\\\\n",
    "    \\end{cases}\n",
    "\\end{align}\n",
    "\n",
    "Understand that while this is a uniformly distributed, $x$ and $y$ are closely related with $x^2 + y^2 \\le 1$, and so $X,Y$ cannot be independent. More on that coming up.\n",
    "\n",
    "#### Marginal PDF of $X$\n",
    "\n",
    "\\begin{align}\n",
    "  f_{X}(x) &= \\int_{-\\sqrt{1-x^2}}^{\\sqrt{1-x^2}} \\frac{1}{\\pi} dy \\\\\n",
    "  \\\\\n",
    "  &= \\frac{2}{\\pi} \\sqrt{1-x^2} &\\quad \\text{where } -1 \\le x \\le 1\n",
    "\\end{align}\n",
    "\n",
    "Notice that while the joint PDF is Uniform, the marginal PDF is not Uniform: it grows as $x$ approaches 0. \n",
    "\n",
    "By _symmetry_ we can just replace $x$ with $y$ to get the marginal PDF of $Y$ $f_{Y}(y)$\n",
    "\n",
    "#### Conditional PDF of $Y|X$\n",
    "\n",
    "\\begin{align}\n",
    "  f_{Y|X}(y|x) &= \\frac{f_{XY}(x,y)}{f_{X}(x)} \\\\\n",
    "  &= \\frac{\\frac{1}{\\pi}}{\\frac{2}{\\pi} \\sqrt{1-x^2}} \\\\\n",
    "  &= \\frac{1}{2 \\sqrt{1-x^2}} &\\quad \\text{if } -\\sqrt{1-x^2} \\le y \\le \\sqrt{1-x^2}\n",
    "\\end{align}\n",
    "\n",
    "But since we are treating $x$ as a constant, and the above equation does not _depend on $y$_, the conditional PDF $f_{Y|X}(y|x)$ is actually Uniform.\n",
    "\n",
    "\\begin{align}\n",
    "  Y|X &\\sim Unif(-\\sqrt{1-x^2}, \\sqrt{1-x^2}) &\\quad \\text{or also } \\\\\n",
    "  \\\\\n",
    "  Y|X=x \\, &\\sim Unif(-\\sqrt{1-x^2}, \\sqrt{1-x^2})\n",
    "\\end{align}\n",
    "\n",
    "#### Non-independence\n",
    "\n",
    "Since in our example above\n",
    "\n",
    "\\begin{align}\n",
    "  f_{XY}(x,y) \\neq f_{X}(x) \\, f_{Y}(y)\n",
    "\\end{align}\n",
    "\n",
    "we can see that $X,Y$ are not independent.\n",
    "\n",
    "Or, because the _unconditional_ distribution of $Y$ is not the same as the _conditional_ distribution of $Y|X$, it necessarily follows that $X,Y$ are not independent as learning $X$ gives us information.\n",
    "\n",
    "\n",
    "----"
   ]
  },
  {
   "cell_type": "markdown",
   "metadata": {},
   "source": [
    "### 2D LOTUS\n",
    "\n",
    "Let $X,Y$ have joint PDF $f(x,y)$, and let $g(x,y)$ be a real-valued function of $x,y$.\n",
    "\n",
    "Then, without trying to find the PDF of $g(x,y)$, LOTUS lets us use joint PDF:\n",
    "\n",
    "\\begin{align}\n",
    "  \\mathbb{E} g(x,y) &= \\int_{-\\infty}^{\\infty} \\int_{-\\infty}^{\\infty} g(x,y) \\, f(x,y) \\, dx dy\n",
    "\\end{align}\n",
    "\n",
    "We will illustrate this by proving the following theorem.\n",
    "\n",
    "#### Theorem\n",
    "If $X,Y$ are independent, then $\\mathbb{E}(XY) = \\mathbb{E}(X)\\mathbb{E}(Y)$.\n",
    "\n",
    "Or, in other words, _independence_ implies _uncorrelated_.\n",
    "\n",
    "#### Proof\n",
    "\n",
    "Consider the continuous case\n",
    "\n",
    "\\begin{align}\n",
    "  \\mathbb{E}(XY) &= \\int_{-\\infty}^{\\infty} \\int_{-\\infty}^{\\infty} xy \\, f(x,y) \\, dx dy &\\quad \\text{2D LOTUS} \\\\\n",
    "  &= \\int_{-\\infty}^{\\infty} \\int_{-\\infty}^{\\infty} xy \\, f_{X}(x) \\, f_{Y}(y) \\, dx dy &\\quad \\text{since } X,Y \\text{ are independent} \\\\\n",
    "  &= \\int_{-\\infty}^{\\infty} \\left( \\int_{-\\infty}^{\\infty} xy \\, f_{X}(x) \\, f_{Y}(y) \\, dx \\right) dy &\\quad \\text{this is a double integral, so we can group thusly} \\\\\n",
    "  &= \\int_{-\\infty}^{\\infty} y \\, f_{Y}(y) \\underbrace{ \\left( \\int_{-\\infty}^{\\infty} x \\, f_{X}(x) \\, dx \\right)}_{\\text{actually }\\mathbb{E}(X) \\text{, which is constant}} dy &\\quad \\text{since we are holding } y \\text{ constant} \\\\\n",
    "  &= \\mathbb{E}(X)  \\int_{-\\infty}^{\\infty} y \\, f_{Y}(y) \\, dy \\\\\n",
    "  &= \\mathbb{E}(X) \\, \\mathbb{E}(Y) &\\quad \\blacksquare\n",
    "\\end{align}\n",
    "\n",
    "----"
   ]
  },
  {
   "cell_type": "markdown",
   "metadata": {},
   "source": [
    "### Example: expected distance between 2 Uniformly distributed random points\n",
    "\n",
    "Given _i.i.d._ $X,Y \\sim Unif(0,1)$, find the expected distance between $X$ and $Y$, $\\mathbb{E}|X-Y|$."
   ]
  },
  {
   "cell_type": "code",
   "execution_count": 80,
   "metadata": {
    "collapsed": false
   },
   "outputs": [
    {
     "data": {
      "image/png": "[encoded data removed]",
      "text/plain": [
       "<matplotlib.figure.Figure at 0x2bf46cd22b0>"
      ]
     },
     "metadata": {},
     "output_type": "display_data"
    }
   ],
   "source": [
    "plt.xkcd()\n",
    "\n",
    "\n",
    "fig,ax = plt.subplots(1, figsize=(6.0,1.0))\n",
    "\n",
    "plt.plot([1/3, 2/3],[0,0], 'ro')\n",
    "ax.axhline(y=0, color='k', alpha=0.2)\n",
    "\n",
    "ax.set_xticks([0.0, (1.0/3.0), (2.0/3.0), 1.0])\n",
    "ax.set_xticklabels(['0', '1/3', '2/3', '1'])\n",
    "\n",
    "ax.get_xaxis().set_ticks_position('bottom')\n",
    "ax.get_yaxis().set_visible(False)\n",
    "ax.spines['right'].set_visible(False)\n",
    "ax.spines['left'].set_visible(False)\n",
    "ax.spines['top'].set_visible(False)\n",
    "ax.spines['bottom'].set_visible(False)\n",
    "\n",
    "plt.show()"
   ]
  },
  {
   "cell_type": "markdown",
   "metadata": {},
   "source": [
    "We don't need to directly find the distribution of $|X-Y|$, because we are only interested in the _average distance between points $x,y$_. Using LOTUS, we have:\n",
    "\n",
    "\\begin{align}\n",
    "  \\mathbb{E}|X-Y| &= \\int_{0}^{1} \\int_{0}^{1} |x-y| \\, dx dy &\\quad \\text{since }X,Y \\text{ are i.i.d., the joint PDF }=1 \\\\\n",
    "  &= \\iint_\\limits{x \\gt y} (x-y) \\, dx dy + \\iint_\\limits{x \\le y} (y-x) \\, dx dy &\\quad \\text{split into 2 integrals to deal with abs. value} \\\\\n",
    "  &= 2 \\int_{0}^{1} \\int_{y}^{1} (x-y) \\, dx dy  &\\quad \\text{by symmetry; and since } x \\gt y \\text{, inner integral starts from }y \\\\\n",
    "  &= 2 \\int_{0}^{1} \\left( \\frac{x^2}{2} - yx \\right) \\bigg|_{y}^{1} \\, dy \\\\\n",
    "  &= 2 \\int_{0}^{1} \\frac{1}{2} - y + \\frac{y^2}{2} \\, dy \\\\\n",
    "  &= 2 \\left( \\frac{1}{6} \\right) \\\\\n",
    "  &= \\boxed{ \\frac{1}{3} }\n",
    "\\end{align}\n",
    "\n",
    "----"
   ]
  },
  {
   "cell_type": "markdown",
   "metadata": {},
   "source": [
    "But looking at that line-segment illustration above suggest another way of looking at this problem.\n",
    "\n",
    "Let $M = max(X,Y)$\n",
    "\n",
    "Let $L = min(X,Y)$\n",
    "\n",
    "And so\n",
    "\n",
    "\\begin{align}\n",
    "  |X-Y| &= M - L \\\\\n",
    "  \\\\ \n",
    "  \\mathbb{E}(M-L) &= \\frac{1}{3} &\\quad \\text{from our previous proof} \\\\\n",
    "  \\mathbb{E}(M) - \\mathbb{E}(L) &= \\frac{1}{3} &\\quad \\text{since } X,Y \\text{ are i.i.d.} \\\\\n",
    "  \\\\\n",
    "  \\mathbb{E}(M+L)&= \\mathbb{E}(M) + \\mathbb{E}(L) &\\quad \\text{by linearity} \\\\\n",
    "  &= \\frac{1}{2} + \\frac{1}{2} &\\quad \\text{since} X \\sim Unif(0,1) \\text{, } Y \\sim Unif(0,1) \\\\\n",
    "  &= 1 \\\\\n",
    "  \\\\\n",
    "  \\mathbb{E}(M) &= \\frac{2}{3} \\\\\n",
    "  \\mathbb{E}(L) &= \\frac{1}{3} \n",
    "\\end{align}\n",
    "\n",
    "----"
   ]
  },
  {
   "cell_type": "markdown",
   "metadata": {},
   "source": [
    "### Chicken-egg Problem\n",
    "\n",
    "Say we have $N$ eggs; let $N \\sim Pois(\\lambda)$\n",
    "\n",
    "Some of the eggs hatch, while some don't. Each egg hatches with probability $p$. The event of an egg hatching is independent of the others.\n",
    "\n",
    "Let $X$ be the number of eggs out of $N$ that do hatch, so $X|N \\sim Bin(N,p)$.\n",
    "\n",
    "Let $Y$ be the number of eggs that don't hatch, so $X+Y = N$.\n",
    "\n",
    "Find the joint PMF of $X,Y$. Are they independent?\n",
    "\n",
    "\\begin{align}\n",
    "  P(X{=}i, Y{=}j) &= \\sum_{n=0}^{\\infty} P(X{=}i, Y{=}j |N{=}n) \\, P(N{=}n) \\\\\n",
    "  \\\\\n",
    "  &=  P(X{=}i, Y{=}j |N{=i+j}) \\, P(N{=i+j})　&\\quad \\text{since we know that } i + j = n \\\\\n",
    "  \\\\\n",
    "  &=  P(X{=}i | N{=i+j}) \\, P(N{=i+j})　&\\quad Y{=}j \\text{ is redundant} \\\\\n",
    "  \\\\\n",
    "  &= \\binom{i+j}{i} p^i \\, q^j \\cdot \\frac{e^{-\\lambda} \\lambda^{i+j}}{(i+j)!} &\\quad \\text{from definition of binomial and Poisson} \\\\\n",
    "  \\\\\n",
    "  &=  \\frac{(i+j)!}{i! \\, j!} p^i \\, q^j \\cdot \\frac{e^{-\\lambda} \\lambda^{i+j}}{(i+j)!} \\\\\n",
    "  \\\\\n",
    "  &= \\frac{(\\lambda p)^i}{i!} \\, \\frac{(\\lambda q)^j}{j!} \\, e^{-\\lambda} \\\\\n",
    "  \\\\\n",
    "  &= \\left(e^{-\\lambda p} \\frac{(\\lambda p)^i}{i!} \\right) \\left(e^{-\\lambda q}  \\frac{(\\lambda q)^j}{j!} \\right) &\\quad \\text{since } p + q = 1 \\\\\n",
    "  \\\\\n",
    "  &\\Rightarrow X,Y \\text{ are independent, } X \\sim Pois(\\lambda p), Y \\sim Pois(\\lambda q)\n",
    "\\end{align}\n",
    "\n",
    "----"
   ]
  },
  {
   "cell_type": "code",
   "execution_count": null,
   "metadata": {
    "collapsed": true
   },
   "outputs": [],
   "source": []
  }
 ],
 "metadata": {
  "kernelspec": {
   "display_name": "Python 3",
   "language": "python",
   "name": "python3"
  },
  "language_info": {
   "codemirror_mode": {
    "name": "ipython",
    "version": 3
   },
   "file_extension": ".py",
   "mimetype": "text/x-python",
   "name": "python",
   "nbconvert_exporter": "python",
   "pygments_lexer": "ipython3",
   "version": "3.5.1"
  }
 },
 "nbformat": 4,
 "nbformat_minor": 0
}
