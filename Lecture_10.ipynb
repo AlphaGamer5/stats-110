{
 "cells": [
  {
   "cell_type": "markdown",
   "metadata": {},
   "source": [
    "# Expectation Continued"
   ]
  },
  {
   "cell_type": "markdown",
   "metadata": {},
   "source": [
    "## A Proof of Linearity (discrete case)\n",
    "\n",
    "Let $T = X + Y$, and show that $\\mathbb{E}(T) = \\mathbb{E}(X) + \\mathbb{E}(Y)$.\n",
    "\n",
    "We will also show that $\\mathbb{E}(cX) = c \\mathbb{E}(X)$.\n",
    "\n",
    "In general, we'd like to be in a position where\n",
    "\n",
    "\\begin{align}\n",
    "  \\sum_{t} t P(T=t) \\stackrel{?}{=} \\sum_{x} x P(X=x) + \\sum_{y} y P(Y=y)\n",
    "\\end{align}\n",
    "\n",
    "so, let's try attacking this from the l.h.s."
   ]
  },
  {
   "cell_type": "markdown",
   "metadata": {},
   "source": [
    "![title](images/L1001.png)"
   ]
  },
  {
   "cell_type": "markdown",
   "metadata": {},
   "source": [
    "Considering the image above of a discrete r.v. in Pebble World, note that\n",
    "\n",
    "\n",
    "\\begin{align}\n",
    "  \\because \\mathbb{E}(X) &= \\sum_{x} x P(X=x) & &\\text{grouping the pebbles per X value; weighted average} \\\\\n",
    "  &= \\sum_{s}X(s)P(\\{s\\}) & &\\text{ungrouped; sum each pebble separately} \\\\\n",
    "  \\\\\n",
    "  \\\\\n",
    "  \\Rightarrow \\mathbb{E}(T) &= \\sum_{s} (X+Y)(s)P(\\{s\\}) \\\\\n",
    "  &= \\sum_{s}X(s)P(\\{s\\}) + \\sum_{s}Y(s)P(\\{s\\}) \\\\\n",
    "  &= \\sum_{x} x P(X=x) + \\sum_{y} y P(Y=y) \\\\\n",
    "  &= \\mathbb{E}(X) + \\mathbb{E}(Y) ~~~~ \\blacksquare \\\\\n",
    "  \\\\\n",
    "  \\\\\n",
    "  \\Rightarrow \\mathbb{E}(cX) &= \\sum_{x} cx P(X=x) \\\\\n",
    "  &= c \\sum_{x} x P(X=x) \\\\\n",
    "  &= c \\mathbb{E}(X) ~~~~ \\blacksquare\n",
    "\\end{align}"
   ]
  },
  {
   "cell_type": "markdown",
   "metadata": {},
   "source": [
    "## Negative Binomial Distribution\n",
    "\n",
    "A misnomer: this distribution is actually non-negative, and not binomial, either.\n",
    "\n",
    "### Notation\n",
    "\n",
    "$X \\sim NB(r,p)$\n",
    "\n",
    "### Description\n",
    "\n",
    "The Negative Binomial is a generalization of the Geometric distribution, where we have a series of independent $Bern(p)$ trials and we want to know # failures before the $r^{\\text{th}}$ success.\n",
    "\n",
    "We can codify this using a bit string:\n",
    "\n",
    "\\begin{align}\n",
    "  & \\text{1000100100001001} & \\text{0 denotes failure, 1 denotes success} & \\\\\n",
    "  & r = 5 \\\\\n",
    "  & n = 11 & \\text{failures} \n",
    "\\end{align}\n",
    "\n",
    "Note that the very last bit position is, of course, a success.\n",
    "\n",
    "Note also that we can permutate the preceding $r-1$ successes amongst the $n+r-1$ slots that come before that final $r^{\\text{th}}$ success.\n",
    "\n",
    "### Parameters\n",
    "\n",
    "* $r$ - the total number of successes before we stop counting\n",
    "* $p$ - probability of success\n",
    "* $n$ - the number of failures before the $r^{\\text{th}}$ success\n",
    "\n",
    "\n",
    "### Probability Mass Function\n",
    "\n",
    "\\begin{align}\n",
    "  P(X=n) &= \\binom{n+r-1}{r-1}  p^r (1-p)^n & &\\text{for } n = 0,1,2,\\dots\\\\\n",
    "  &= \\binom{n+r-1}{n}  p^r (1-p)^n & &\\text{or conversely}\\\\\n",
    "\\end{align}\n",
    "\n",
    "### Expected value"
   ]
  },
  {
   "cell_type": "code",
   "execution_count": null,
   "metadata": {
    "collapsed": true
   },
   "outputs": [],
   "source": []
  },
  {
   "cell_type": "code",
   "execution_count": null,
   "metadata": {
    "collapsed": true
   },
   "outputs": [],
   "source": []
  }
 ],
 "metadata": {
  "kernelspec": {
   "display_name": "Python 3",
   "language": "python",
   "name": "python3"
  },
  "language_info": {
   "codemirror_mode": {
    "name": "ipython",
    "version": 3
   },
   "file_extension": ".py",
   "mimetype": "text/x-python",
   "name": "python",
   "nbconvert_exporter": "python",
   "pygments_lexer": "ipython3",
   "version": "3.5.1"
  }
 },
 "nbformat": 4,
 "nbformat_minor": 0
}
