{
 "cells": [
  {
   "cell_type": "markdown",
   "metadata": {},
   "source": [
    "# Expectation Continued"
   ]
  },
  {
   "cell_type": "markdown",
   "metadata": {},
   "source": [
    "## A Proof of Linearity (discrete case)\n",
    "\n",
    "Let $T = X + Y$, and show that $\\mathbb{E}(T) = \\mathbb{E}(X) + \\mathbb{E}(Y)$\n",
    "\n",
    "\\begin{align*}\n",
    "  \\sum_{t} t P(T=t) &\\stackrel{?}{=} \\sum_{x} x P(X=x) + \\sum_{y} y P(Y=y) & &\\text{... let's try working from the l.h.s}\n",
    "\\end{align*}\n",
    "\n",
    "![title](images/L1001.png)\n",
    "\n",
    "Considering the image above of a discrete r.v. in Pebble World, note that\n",
    "\n",
    "\\begin{align}\n",
    "  \\because \\mathbb{E}(X) &= \\sum_{x} x P(X=x) & &\\text{...grouping the pebbles per X value; weighted average} \\\\\n",
    "  &= \\sum_{s}X(s)P(\\{s\\}) & &\\text{... ungrouped; sum each element separately}\n",
    "  \\\\\n",
    "  \\\\\n",
    "  \\Rightarrow \\mathbb{E}(T) &= \\sum_{s} (X+Y)(s)P(\\{s\\}) \\\\\n",
    "  &= \\sum_{s}X(s)P(\\{s\\}) + \\sum_{s}Y(s)P(\\{s\\}) \\\\\n",
    "  &= \\sum_{x} x P(X=x) + \\sum_{y} y P(Y=y) ~~~~ \\blacksquare\n",
    "\\end{align}"
   ]
  }
 ],
 "metadata": {
  "kernelspec": {
   "display_name": "Python 3",
   "language": "python",
   "name": "python3"
  },
  "language_info": {
   "codemirror_mode": {
    "name": "ipython",
    "version": 3
   },
   "file_extension": ".py",
   "mimetype": "text/x-python",
   "name": "python",
   "nbconvert_exporter": "python",
   "pygments_lexer": "ipython3",
   "version": "3.5.1"
  }
 },
 "nbformat": 4,
 "nbformat_minor": 0
}
