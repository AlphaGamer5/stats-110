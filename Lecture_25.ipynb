{
 "cells": [
  {
   "cell_type": "markdown",
   "metadata": {},
   "source": [
    "# Lecture 25\n",
    "# Beta-Gamma (bank-post office), order statistics, conditional expectation, two envelope paradox"
   ]
  },
  {
   "cell_type": "markdown",
   "metadata": {},
   "source": [
    "## Connecting the Gamma and Beta Distributions\n",
    "\n",
    "Say you have to visit both the bank and the post office today. What can we say about the total times you have to wait in the lines?\n",
    "\n",
    "Let $X \\sim Gamma(a, \\lambda)$ be the total time you wait in line at the bank, given that there are $a$ people in line in front of you, and the waiting times are i.i.d $Expo(\\lambda)$; recall the analogies of geometric $\\rightarrow$ negative binomial, and of exponential $\\rightarrow$ gamma. The waiting time in line at the bank for everyone individually is $Expo(\\lambda)$, and as the $a+1^{th}$ person, your time in line is sum of those $a$ $Expo(\\lambda)$ times.\n",
    "\n",
    "Similarly, let $Y \\sim Gamma(b, \\lambda)$ be the total time you wait in line at the post office, given that there are $b$ people in line in front of you.\n",
    "\n",
    "Assume that $X, Y$ are independent.\n",
    "\n",
    "### Questions\n",
    "\n",
    "1. What is the distribution of $T = X + Y$?\n",
    "1. Given $T = X + Y$ and $W = \\frac{X}{X+Y}$, what is the joint distribution?\n",
    "1. Are $T, W$ independent?\n",
    "\n",
    "### What is the distribution of $T$?\n",
    "\n",
    "We immediately know that the total time you spend waiting in the lines is\n",
    "\n",
    "\\begin{align}\n",
    "  T &= X + Y \\\\\n",
    "    &\\sim Gamma(a+b, \\lambda)\n",
    "\\end{align}\n",
    "\n",
    "\n",
    "### What is the distribution of  $T,W$?\n",
    "\n",
    "Let $\\lambda = 1$, to make the calculation simpler. We do not lose any generality, since we can scale by $\\lambda$ later.\n",
    "\n",
    "So we are looking the joint PDF of $T,W$\n",
    "\n",
    "\\begin{align}\n",
    "  \\text{joint PDF } f_{T,W}(t,w) &= f_{X,Y}(x,y) \\, \\left| \\frac{\\partial(x,y)}{\\partial(t,w)} \\right| \\\\\n",
    "  &= \\frac{1}{\\Gamma(a) \\Gamma(b)} \\, x^a \\, e^{-x} \\, y^b \\, e^{-y} \\, \\frac{1}{xy} \\, \\left| \\frac{\\partial(x,y)}{\\partial(t,w)} \\right| \\\\\\\\\n",
    "  \\\\\n",
    "  \\text{working on the Jacobian } & \\left| \\frac{\\partial(x,y)}{\\partial(t,w)} \\right| \\\\\n",
    "  \\text{let } x + y &= t \\\\\n",
    "  \\frac{x}{x+y} &= w \\\\\n",
    "  \\\\\n",
    "  \\Rightarrow x &= tw \\\\\n",
    "  \\\\\n",
    "  1 - \\frac{x}{x+y} &= 1 - w \\\\\n",
    "  \\frac{x + y - x}{t} &= 1 - w \\\\\n",
    "  \\\\\n",
    "  \\Rightarrow y &= t(1-w) \\\\\\\\\n",
    "  \\\\\n",
    "  \\left| \\frac{\\partial(x,y)}{\\partial(t,w)} \\right| &= \n",
    "    \\begin{bmatrix}\n",
    "      \\frac{\\partial x}{\\partial t} & \\frac{\\partial x}{\\partial w} \\\\\n",
    "      \\frac{\\partial y}{\\partial t} & \\frac{\\partial y}{\\partial w} \n",
    "    \\end{bmatrix}\n",
    "\\end{align}"
   ]
  },
  {
   "cell_type": "code",
   "execution_count": null,
   "metadata": {
    "collapsed": true
   },
   "outputs": [],
   "source": []
  }
 ],
 "metadata": {
  "kernelspec": {
   "display_name": "Python 3",
   "language": "python",
   "name": "python3"
  },
  "language_info": {
   "codemirror_mode": {
    "name": "ipython",
    "version": 3
   },
   "file_extension": ".py",
   "mimetype": "text/x-python",
   "name": "python",
   "nbconvert_exporter": "python",
   "pygments_lexer": "ipython3",
   "version": "3.6.1"
  }
 },
 "nbformat": 4,
 "nbformat_minor": 2
}
